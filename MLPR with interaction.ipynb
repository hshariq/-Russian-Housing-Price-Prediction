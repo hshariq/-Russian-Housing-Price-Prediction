{
 "cells": [
  {
   "cell_type": "code",
   "execution_count": 3,
   "metadata": {},
   "outputs": [],
   "source": [
    "import pandas as pd\n",
    "import numpy as np"
   ]
  },
  {
   "cell_type": "code",
   "execution_count": 4,
   "metadata": {},
   "outputs": [],
   "source": [
    "#read csv files in data\n",
    "train = pd.read_csv('data/train.csv')\n",
    "test= pd.read_csv('data/test.csv')"
   ]
  },
  {
   "cell_type": "code",
   "execution_count": 5,
   "metadata": {},
   "outputs": [
    {
     "data": {
      "text/plain": [
       "Index(['product_type', 'sub_area', 'culture_objects_top_25',\n",
       "       'thermal_power_plant_raion', 'incineration_raion',\n",
       "       'oil_chemistry_raion', 'radiation_raion', 'railroad_terminal_raion',\n",
       "       'big_market_raion', 'nuclear_reactor_raion', 'detention_facility_raion',\n",
       "       'water_1line', 'big_road1_1line', 'railroad_1line', 'ecology'],\n",
       "      dtype='object')"
      ]
     },
     "execution_count": 5,
     "metadata": {},
     "output_type": "execute_result"
    }
   ],
   "source": [
    "#only show train that has dtype=object\n",
    "train.select_dtypes(include=['object']).columns"
   ]
  },
  {
   "cell_type": "code",
   "execution_count": 6,
   "metadata": {},
   "outputs": [],
   "source": [
    "#convert data types where coluhmns have values yes and no to 1 and 0\n",
    "train = train.replace({'yes': 1, 'no': 0})\n",
    "test = test.replace({'yes': 1, 'no': 0})"
   ]
  },
  {
   "cell_type": "code",
   "execution_count": 7,
   "metadata": {},
   "outputs": [
    {
     "data": {
      "text/plain": [
       "Index(['product_type', 'sub_area', 'ecology'], dtype='object')"
      ]
     },
     "execution_count": 7,
     "metadata": {},
     "output_type": "execute_result"
    }
   ],
   "source": [
    "#make surre all yes and no are covnerted\n",
    "train.select_dtypes(include=['object']).columns"
   ]
  },
  {
   "cell_type": "code",
   "execution_count": 8,
   "metadata": {},
   "outputs": [],
   "source": [
    "#  Import the necessary libraries\n",
    "from sklearn.preprocessing import LabelEncoder"
   ]
  },
  {
   "cell_type": "code",
   "execution_count": 9,
   "metadata": {},
   "outputs": [],
   "source": [
    "\n",
    "#Create an instance of LabelEncoder\n",
    "lbl = LabelEncoder()"
   ]
  },
  {
   "cell_type": "code",
   "execution_count": 10,
   "metadata": {},
   "outputs": [
    {
     "data": {
      "text/html": [
       "<style>#sk-container-id-1 {color: black;}#sk-container-id-1 pre{padding: 0;}#sk-container-id-1 div.sk-toggleable {background-color: white;}#sk-container-id-1 label.sk-toggleable__label {cursor: pointer;display: block;width: 100%;margin-bottom: 0;padding: 0.3em;box-sizing: border-box;text-align: center;}#sk-container-id-1 label.sk-toggleable__label-arrow:before {content: \"▸\";float: left;margin-right: 0.25em;color: #696969;}#sk-container-id-1 label.sk-toggleable__label-arrow:hover:before {color: black;}#sk-container-id-1 div.sk-estimator:hover label.sk-toggleable__label-arrow:before {color: black;}#sk-container-id-1 div.sk-toggleable__content {max-height: 0;max-width: 0;overflow: hidden;text-align: left;background-color: #f0f8ff;}#sk-container-id-1 div.sk-toggleable__content pre {margin: 0.2em;color: black;border-radius: 0.25em;background-color: #f0f8ff;}#sk-container-id-1 input.sk-toggleable__control:checked~div.sk-toggleable__content {max-height: 200px;max-width: 100%;overflow: auto;}#sk-container-id-1 input.sk-toggleable__control:checked~label.sk-toggleable__label-arrow:before {content: \"▾\";}#sk-container-id-1 div.sk-estimator input.sk-toggleable__control:checked~label.sk-toggleable__label {background-color: #d4ebff;}#sk-container-id-1 div.sk-label input.sk-toggleable__control:checked~label.sk-toggleable__label {background-color: #d4ebff;}#sk-container-id-1 input.sk-hidden--visually {border: 0;clip: rect(1px 1px 1px 1px);clip: rect(1px, 1px, 1px, 1px);height: 1px;margin: -1px;overflow: hidden;padding: 0;position: absolute;width: 1px;}#sk-container-id-1 div.sk-estimator {font-family: monospace;background-color: #f0f8ff;border: 1px dotted black;border-radius: 0.25em;box-sizing: border-box;margin-bottom: 0.5em;}#sk-container-id-1 div.sk-estimator:hover {background-color: #d4ebff;}#sk-container-id-1 div.sk-parallel-item::after {content: \"\";width: 100%;border-bottom: 1px solid gray;flex-grow: 1;}#sk-container-id-1 div.sk-label:hover label.sk-toggleable__label {background-color: #d4ebff;}#sk-container-id-1 div.sk-serial::before {content: \"\";position: absolute;border-left: 1px solid gray;box-sizing: border-box;top: 0;bottom: 0;left: 50%;z-index: 0;}#sk-container-id-1 div.sk-serial {display: flex;flex-direction: column;align-items: center;background-color: white;padding-right: 0.2em;padding-left: 0.2em;position: relative;}#sk-container-id-1 div.sk-item {position: relative;z-index: 1;}#sk-container-id-1 div.sk-parallel {display: flex;align-items: stretch;justify-content: center;background-color: white;position: relative;}#sk-container-id-1 div.sk-item::before, #sk-container-id-1 div.sk-parallel-item::before {content: \"\";position: absolute;border-left: 1px solid gray;box-sizing: border-box;top: 0;bottom: 0;left: 50%;z-index: -1;}#sk-container-id-1 div.sk-parallel-item {display: flex;flex-direction: column;z-index: 1;position: relative;background-color: white;}#sk-container-id-1 div.sk-parallel-item:first-child::after {align-self: flex-end;width: 50%;}#sk-container-id-1 div.sk-parallel-item:last-child::after {align-self: flex-start;width: 50%;}#sk-container-id-1 div.sk-parallel-item:only-child::after {width: 0;}#sk-container-id-1 div.sk-dashed-wrapped {border: 1px dashed gray;margin: 0 0.4em 0.5em 0.4em;box-sizing: border-box;padding-bottom: 0.4em;background-color: white;}#sk-container-id-1 div.sk-label label {font-family: monospace;font-weight: bold;display: inline-block;line-height: 1.2em;}#sk-container-id-1 div.sk-label-container {text-align: center;}#sk-container-id-1 div.sk-container {/* jupyter's `normalize.less` sets `[hidden] { display: none; }` but bootstrap.min.css set `[hidden] { display: none !important; }` so we also need the `!important` here to be able to override the default hidden behavior on the sphinx rendered scikit-learn.org. See: https://github.com/scikit-learn/scikit-learn/issues/21755 */display: inline-block !important;position: relative;}#sk-container-id-1 div.sk-text-repr-fallback {display: none;}</style><div id=\"sk-container-id-1\" class=\"sk-top-container\"><div class=\"sk-text-repr-fallback\"><pre>LabelEncoder()</pre><b>In a Jupyter environment, please rerun this cell to show the HTML representation or trust the notebook. <br />On GitHub, the HTML representation is unable to render, please try loading this page with nbviewer.org.</b></div><div class=\"sk-container\" hidden><div class=\"sk-item\"><div class=\"sk-estimator sk-toggleable\"><input class=\"sk-toggleable__control sk-hidden--visually\" id=\"sk-estimator-id-1\" type=\"checkbox\" checked><label for=\"sk-estimator-id-1\" class=\"sk-toggleable__label sk-toggleable__label-arrow\">LabelEncoder</label><div class=\"sk-toggleable__content\"><pre>LabelEncoder()</pre></div></div></div></div></div>"
      ],
      "text/plain": [
       "LabelEncoder()"
      ]
     },
     "execution_count": 10,
     "metadata": {},
     "output_type": "execute_result"
    }
   ],
   "source": [
    "\n",
    "#Fit the label encoder on the combined data of train and test datasets\n",
    "lbl.fit(list(train['ecology'].values) + list(test['ecology'].values))"
   ]
  },
  {
   "cell_type": "code",
   "execution_count": 11,
   "metadata": {},
   "outputs": [],
   "source": [
    "\n",
    "#Convert the 'ecology' column in the train dataset\n",
    "train['ecology'] = lbl.transform(list(train['ecology'].values))\n",
    "\n",
    "#Convert the 'ecology' column in the test dataset\n",
    "test['ecology'] = lbl.transform(list(test['ecology'].values))"
   ]
  },
  {
   "cell_type": "code",
   "execution_count": 12,
   "metadata": {},
   "outputs": [],
   "source": [
    "#do label encoding for prodcut type as well\n",
    "lbl.fit(list(train['product_type'].values) + list(test['product_type'].values))\n",
    "train['product_type'] = lbl.transform(list(train['product_type'].values))\n",
    "test['product_type'] = lbl.transform(list(test['product_type'].values))"
   ]
  },
  {
   "cell_type": "code",
   "execution_count": 13,
   "metadata": {},
   "outputs": [],
   "source": [
    "train.drop(columns=['sub_area'], inplace=True)\n",
    "test.drop(columns=['sub_area'], inplace=True)"
   ]
  },
  {
   "cell_type": "code",
   "execution_count": 14,
   "metadata": {},
   "outputs": [],
   "source": [
    "from sklearn.linear_model import LinearRegression\n",
    "from sklearn.model_selection import train_test_split"
   ]
  },
  {
   "cell_type": "code",
   "execution_count": 15,
   "metadata": {},
   "outputs": [],
   "source": [
    "from sklearn.metrics import mean_squared_error\n",
    "from sklearn.preprocessing import PolynomialFeatures"
   ]
  },
  {
   "cell_type": "code",
   "execution_count": 16,
   "metadata": {},
   "outputs": [],
   "source": [
    "X = train.drop(columns=['price_doc'])\n",
    "y = train[['price_doc']]"
   ]
  },
  {
   "cell_type": "code",
   "execution_count": 17,
   "metadata": {},
   "outputs": [],
   "source": [
    "#save row id in a dataframe\n",
    "row_id = test['row ID']\n",
    "#drop it from test now\n",
    "test = test.drop(columns=['row ID'])"
   ]
  },
  {
   "cell_type": "code",
   "execution_count": 32,
   "metadata": {},
   "outputs": [],
   "source": [
    "from sklearn.preprocessing import MinMaxScaler\n",
    "\n",
    "#Create a scaler object\n",
    "scaler = MinMaxScaler()\n",
    "\n",
    "#Fit the scaler and transform X_new\n",
    "X_new = scaler.fit_transform(X)\n",
    "test_new = scaler.fit_transform(test)"
   ]
  },
  {
   "cell_type": "code",
   "execution_count": 37,
   "metadata": {},
   "outputs": [
    {
     "name": "stdout",
     "output_type": "stream",
     "text": [
      "floor                                    5.355015e-81\n",
      "full_sq                                  1.630560e-77\n",
      "leisure_count_500                        3.165562e-77\n",
      "industrial_km                            6.714762e-48\n",
      "leisure_count_1000                       2.357339e-38\n",
      "school_education_centers_top_20_raion    2.420280e-37\n",
      "cafe_count_1000_price_high               8.300680e-37\n",
      "mosque_count_500                         7.882503e-34\n",
      "build_count_monolith                     2.046545e-31\n",
      "green_part_1000                          1.165450e-30\n",
      "green_zone_km                            3.146528e-26\n",
      "mosque_count_1000                        5.051537e-25\n",
      "cafe_count_500_price_high                8.423399e-25\n",
      "build_count_1971-1995                    2.444321e-24\n",
      "sport_count_2000                         8.091672e-24\n",
      "green_part_500                           3.323409e-22\n",
      "incineration_raion                       4.856133e-22\n",
      "raion_build_count_with_builddate_info    1.295121e-20\n",
      "office_sqm_1000                          1.805297e-20\n",
      "church_synagogue_km                      3.548589e-20\n",
      "life_sq                                  4.894303e-19\n",
      "market_count_1000                        5.736955e-19\n",
      "prom_part_500                            6.681035e-19\n",
      "office_count_1000                        8.074961e-18\n",
      "mosque_count_1500                        1.969634e-17\n",
      "product_type                             4.359708e-17\n",
      "catering_km                              7.752950e-17\n",
      "cafe_count_500_price_1500                9.018880e-17\n",
      "big_road1_1line                          2.307365e-16\n",
      "cafe_count_1000_price_1500               1.841261e-15\n",
      "nuclear_reactor_raion                    6.085317e-15\n",
      "preschool_education_centers_raion        6.307076e-15\n",
      "cafe_count_500_price_1000                7.580755e-15\n",
      "mkad_km                                  1.217015e-14\n",
      "water_km                                 1.396273e-14\n",
      "dtype: float64\n"
     ]
    }
   ],
   "source": [
    "import statsmodels.api as sm\n",
    "\n",
    "# Add a constant column to the feature matrix\n",
    "XSM = sm.add_constant(train.drop(columns=['price_doc']))\n",
    "\n",
    "# Fit the ordinary least squares (OLS) model\n",
    "model = sm.OLS(train['price_doc'], XSM).fit()\n",
    "\n",
    "# Get the p-values of all columns\n",
    "p_values = model.pvalues\n",
    "\n",
    "# Sort the p-values in ascending order\n",
    "sorted_p_values = p_values.sort_values()\n",
    "\n",
    "# Show only the bottom 35 columns with the lowest p-values\n",
    "bottom_35_p_values = sorted_p_values[:35]\n",
    "\n",
    "# Print the bottom 35 p-values\n",
    "print(bottom_35_p_values)\n"
   ]
  },
  {
   "cell_type": "code",
   "execution_count": 38,
   "metadata": {},
   "outputs": [],
   "source": [
    "# Use the bottom 35 features above to train the model\n",
    "\n",
    "# Select the bottom 35 variables from the dataset\n",
    "Xp = train[list(bottom_35_p_values.index)]\n",
    "# Do the same for the test dataset as well\n",
    "testp = test[list(bottom_35_p_values.index)]"
   ]
  },
  {
   "cell_type": "code",
   "execution_count": 39,
   "metadata": {},
   "outputs": [],
   "source": [
    "from sklearn.preprocessing import MinMaxScaler\n",
    "\n",
    "#Create a scaler object\n",
    "scaler = MinMaxScaler()\n",
    "\n",
    "#Fit the scaler and transform X_new\n",
    "testp = scaler.fit_transform(testp)\n",
    "Xp = scaler.fit_transform(Xp)"
   ]
  },
  {
   "cell_type": "code",
   "execution_count": 40,
   "metadata": {},
   "outputs": [
    {
     "name": "stdout",
     "output_type": "stream",
     "text": [
      "(181507, 630)\n",
      "['x0' 'x1' 'x2' 'x3' 'x4' 'x5' 'x6' 'x7' 'x8' 'x9' 'x10' 'x11' 'x12' 'x13'\n",
      " 'x14' 'x15' 'x16' 'x17' 'x18' 'x19' 'x20' 'x21' 'x22' 'x23' 'x24' 'x25'\n",
      " 'x26' 'x27' 'x28' 'x29' 'x30' 'x31' 'x32' 'x33' 'x34' 'x0 x1' 'x0 x2'\n",
      " 'x0 x3' 'x0 x4' 'x0 x5' 'x0 x6' 'x0 x7' 'x0 x8' 'x0 x9' 'x0 x10' 'x0 x11'\n",
      " 'x0 x12' 'x0 x13' 'x0 x14' 'x0 x15' 'x0 x16' 'x0 x17' 'x0 x18' 'x0 x19'\n",
      " 'x0 x20' 'x0 x21' 'x0 x22' 'x0 x23' 'x0 x24' 'x0 x25' 'x0 x26' 'x0 x27'\n",
      " 'x0 x28' 'x0 x29' 'x0 x30' 'x0 x31' 'x0 x32' 'x0 x33' 'x0 x34' 'x1 x2'\n",
      " 'x1 x3' 'x1 x4' 'x1 x5' 'x1 x6' 'x1 x7' 'x1 x8' 'x1 x9' 'x1 x10' 'x1 x11'\n",
      " 'x1 x12' 'x1 x13' 'x1 x14' 'x1 x15' 'x1 x16' 'x1 x17' 'x1 x18' 'x1 x19'\n",
      " 'x1 x20' 'x1 x21' 'x1 x22' 'x1 x23' 'x1 x24' 'x1 x25' 'x1 x26' 'x1 x27'\n",
      " 'x1 x28' 'x1 x29' 'x1 x30' 'x1 x31' 'x1 x32' 'x1 x33' 'x1 x34' 'x2 x3'\n",
      " 'x2 x4' 'x2 x5' 'x2 x6' 'x2 x7' 'x2 x8' 'x2 x9' 'x2 x10' 'x2 x11'\n",
      " 'x2 x12' 'x2 x13' 'x2 x14' 'x2 x15' 'x2 x16' 'x2 x17' 'x2 x18' 'x2 x19'\n",
      " 'x2 x20' 'x2 x21' 'x2 x22' 'x2 x23' 'x2 x24' 'x2 x25' 'x2 x26' 'x2 x27'\n",
      " 'x2 x28' 'x2 x29' 'x2 x30' 'x2 x31' 'x2 x32' 'x2 x33' 'x2 x34' 'x3 x4'\n",
      " 'x3 x5' 'x3 x6' 'x3 x7' 'x3 x8' 'x3 x9' 'x3 x10' 'x3 x11' 'x3 x12'\n",
      " 'x3 x13' 'x3 x14' 'x3 x15' 'x3 x16' 'x3 x17' 'x3 x18' 'x3 x19' 'x3 x20'\n",
      " 'x3 x21' 'x3 x22' 'x3 x23' 'x3 x24' 'x3 x25' 'x3 x26' 'x3 x27' 'x3 x28'\n",
      " 'x3 x29' 'x3 x30' 'x3 x31' 'x3 x32' 'x3 x33' 'x3 x34' 'x4 x5' 'x4 x6'\n",
      " 'x4 x7' 'x4 x8' 'x4 x9' 'x4 x10' 'x4 x11' 'x4 x12' 'x4 x13' 'x4 x14'\n",
      " 'x4 x15' 'x4 x16' 'x4 x17' 'x4 x18' 'x4 x19' 'x4 x20' 'x4 x21' 'x4 x22'\n",
      " 'x4 x23' 'x4 x24' 'x4 x25' 'x4 x26' 'x4 x27' 'x4 x28' 'x4 x29' 'x4 x30'\n",
      " 'x4 x31' 'x4 x32' 'x4 x33' 'x4 x34' 'x5 x6' 'x5 x7' 'x5 x8' 'x5 x9'\n",
      " 'x5 x10' 'x5 x11' 'x5 x12' 'x5 x13' 'x5 x14' 'x5 x15' 'x5 x16' 'x5 x17'\n",
      " 'x5 x18' 'x5 x19' 'x5 x20' 'x5 x21' 'x5 x22' 'x5 x23' 'x5 x24' 'x5 x25'\n",
      " 'x5 x26' 'x5 x27' 'x5 x28' 'x5 x29' 'x5 x30' 'x5 x31' 'x5 x32' 'x5 x33'\n",
      " 'x5 x34' 'x6 x7' 'x6 x8' 'x6 x9' 'x6 x10' 'x6 x11' 'x6 x12' 'x6 x13'\n",
      " 'x6 x14' 'x6 x15' 'x6 x16' 'x6 x17' 'x6 x18' 'x6 x19' 'x6 x20' 'x6 x21'\n",
      " 'x6 x22' 'x6 x23' 'x6 x24' 'x6 x25' 'x6 x26' 'x6 x27' 'x6 x28' 'x6 x29'\n",
      " 'x6 x30' 'x6 x31' 'x6 x32' 'x6 x33' 'x6 x34' 'x7 x8' 'x7 x9' 'x7 x10'\n",
      " 'x7 x11' 'x7 x12' 'x7 x13' 'x7 x14' 'x7 x15' 'x7 x16' 'x7 x17' 'x7 x18'\n",
      " 'x7 x19' 'x7 x20' 'x7 x21' 'x7 x22' 'x7 x23' 'x7 x24' 'x7 x25' 'x7 x26'\n",
      " 'x7 x27' 'x7 x28' 'x7 x29' 'x7 x30' 'x7 x31' 'x7 x32' 'x7 x33' 'x7 x34'\n",
      " 'x8 x9' 'x8 x10' 'x8 x11' 'x8 x12' 'x8 x13' 'x8 x14' 'x8 x15' 'x8 x16'\n",
      " 'x8 x17' 'x8 x18' 'x8 x19' 'x8 x20' 'x8 x21' 'x8 x22' 'x8 x23' 'x8 x24'\n",
      " 'x8 x25' 'x8 x26' 'x8 x27' 'x8 x28' 'x8 x29' 'x8 x30' 'x8 x31' 'x8 x32'\n",
      " 'x8 x33' 'x8 x34' 'x9 x10' 'x9 x11' 'x9 x12' 'x9 x13' 'x9 x14' 'x9 x15'\n",
      " 'x9 x16' 'x9 x17' 'x9 x18' 'x9 x19' 'x9 x20' 'x9 x21' 'x9 x22' 'x9 x23'\n",
      " 'x9 x24' 'x9 x25' 'x9 x26' 'x9 x27' 'x9 x28' 'x9 x29' 'x9 x30' 'x9 x31'\n",
      " 'x9 x32' 'x9 x33' 'x9 x34' 'x10 x11' 'x10 x12' 'x10 x13' 'x10 x14'\n",
      " 'x10 x15' 'x10 x16' 'x10 x17' 'x10 x18' 'x10 x19' 'x10 x20' 'x10 x21'\n",
      " 'x10 x22' 'x10 x23' 'x10 x24' 'x10 x25' 'x10 x26' 'x10 x27' 'x10 x28'\n",
      " 'x10 x29' 'x10 x30' 'x10 x31' 'x10 x32' 'x10 x33' 'x10 x34' 'x11 x12'\n",
      " 'x11 x13' 'x11 x14' 'x11 x15' 'x11 x16' 'x11 x17' 'x11 x18' 'x11 x19'\n",
      " 'x11 x20' 'x11 x21' 'x11 x22' 'x11 x23' 'x11 x24' 'x11 x25' 'x11 x26'\n",
      " 'x11 x27' 'x11 x28' 'x11 x29' 'x11 x30' 'x11 x31' 'x11 x32' 'x11 x33'\n",
      " 'x11 x34' 'x12 x13' 'x12 x14' 'x12 x15' 'x12 x16' 'x12 x17' 'x12 x18'\n",
      " 'x12 x19' 'x12 x20' 'x12 x21' 'x12 x22' 'x12 x23' 'x12 x24' 'x12 x25'\n",
      " 'x12 x26' 'x12 x27' 'x12 x28' 'x12 x29' 'x12 x30' 'x12 x31' 'x12 x32'\n",
      " 'x12 x33' 'x12 x34' 'x13 x14' 'x13 x15' 'x13 x16' 'x13 x17' 'x13 x18'\n",
      " 'x13 x19' 'x13 x20' 'x13 x21' 'x13 x22' 'x13 x23' 'x13 x24' 'x13 x25'\n",
      " 'x13 x26' 'x13 x27' 'x13 x28' 'x13 x29' 'x13 x30' 'x13 x31' 'x13 x32'\n",
      " 'x13 x33' 'x13 x34' 'x14 x15' 'x14 x16' 'x14 x17' 'x14 x18' 'x14 x19'\n",
      " 'x14 x20' 'x14 x21' 'x14 x22' 'x14 x23' 'x14 x24' 'x14 x25' 'x14 x26'\n",
      " 'x14 x27' 'x14 x28' 'x14 x29' 'x14 x30' 'x14 x31' 'x14 x32' 'x14 x33'\n",
      " 'x14 x34' 'x15 x16' 'x15 x17' 'x15 x18' 'x15 x19' 'x15 x20' 'x15 x21'\n",
      " 'x15 x22' 'x15 x23' 'x15 x24' 'x15 x25' 'x15 x26' 'x15 x27' 'x15 x28'\n",
      " 'x15 x29' 'x15 x30' 'x15 x31' 'x15 x32' 'x15 x33' 'x15 x34' 'x16 x17'\n",
      " 'x16 x18' 'x16 x19' 'x16 x20' 'x16 x21' 'x16 x22' 'x16 x23' 'x16 x24'\n",
      " 'x16 x25' 'x16 x26' 'x16 x27' 'x16 x28' 'x16 x29' 'x16 x30' 'x16 x31'\n",
      " 'x16 x32' 'x16 x33' 'x16 x34' 'x17 x18' 'x17 x19' 'x17 x20' 'x17 x21'\n",
      " 'x17 x22' 'x17 x23' 'x17 x24' 'x17 x25' 'x17 x26' 'x17 x27' 'x17 x28'\n",
      " 'x17 x29' 'x17 x30' 'x17 x31' 'x17 x32' 'x17 x33' 'x17 x34' 'x18 x19'\n",
      " 'x18 x20' 'x18 x21' 'x18 x22' 'x18 x23' 'x18 x24' 'x18 x25' 'x18 x26'\n",
      " 'x18 x27' 'x18 x28' 'x18 x29' 'x18 x30' 'x18 x31' 'x18 x32' 'x18 x33'\n",
      " 'x18 x34' 'x19 x20' 'x19 x21' 'x19 x22' 'x19 x23' 'x19 x24' 'x19 x25'\n",
      " 'x19 x26' 'x19 x27' 'x19 x28' 'x19 x29' 'x19 x30' 'x19 x31' 'x19 x32'\n",
      " 'x19 x33' 'x19 x34' 'x20 x21' 'x20 x22' 'x20 x23' 'x20 x24' 'x20 x25'\n",
      " 'x20 x26' 'x20 x27' 'x20 x28' 'x20 x29' 'x20 x30' 'x20 x31' 'x20 x32'\n",
      " 'x20 x33' 'x20 x34' 'x21 x22' 'x21 x23' 'x21 x24' 'x21 x25' 'x21 x26'\n",
      " 'x21 x27' 'x21 x28' 'x21 x29' 'x21 x30' 'x21 x31' 'x21 x32' 'x21 x33'\n",
      " 'x21 x34' 'x22 x23' 'x22 x24' 'x22 x25' 'x22 x26' 'x22 x27' 'x22 x28'\n",
      " 'x22 x29' 'x22 x30' 'x22 x31' 'x22 x32' 'x22 x33' 'x22 x34' 'x23 x24'\n",
      " 'x23 x25' 'x23 x26' 'x23 x27' 'x23 x28' 'x23 x29' 'x23 x30' 'x23 x31'\n",
      " 'x23 x32' 'x23 x33' 'x23 x34' 'x24 x25' 'x24 x26' 'x24 x27' 'x24 x28'\n",
      " 'x24 x29' 'x24 x30' 'x24 x31' 'x24 x32' 'x24 x33' 'x24 x34' 'x25 x26'\n",
      " 'x25 x27' 'x25 x28' 'x25 x29' 'x25 x30' 'x25 x31' 'x25 x32' 'x25 x33'\n",
      " 'x25 x34' 'x26 x27' 'x26 x28' 'x26 x29' 'x26 x30' 'x26 x31' 'x26 x32'\n",
      " 'x26 x33' 'x26 x34' 'x27 x28' 'x27 x29' 'x27 x30' 'x27 x31' 'x27 x32'\n",
      " 'x27 x33' 'x27 x34' 'x28 x29' 'x28 x30' 'x28 x31' 'x28 x32' 'x28 x33'\n",
      " 'x28 x34' 'x29 x30' 'x29 x31' 'x29 x32' 'x29 x33' 'x29 x34' 'x30 x31'\n",
      " 'x30 x32' 'x30 x33' 'x30 x34' 'x31 x32' 'x31 x33' 'x31 x34' 'x32 x33'\n",
      " 'x32 x34' 'x33 x34']\n",
      "0.6450725766132366\n",
      "[[ 1.51579417e+07  6.77828637e+07  7.48285916e+06  1.36034725e+07\n",
      "   9.37743144e+06  5.82866734e+06  1.59505312e+07  1.25590676e+07\n",
      "   4.63372122e+06  5.52057237e+05 -1.74907015e+06  1.92808190e+06\n",
      "   4.07371400e+05 -1.45044966e+06  3.06522754e+06  3.51977533e+06\n",
      "   8.47923021e+05 -3.54964277e+05  1.65625451e+06  1.10988134e+06\n",
      "   7.49366504e+06  8.47061856e+05  5.38117052e+05  9.65557517e+06\n",
      "  -1.33957965e+06  8.09557114e+05 -1.62436366e+06  2.50501218e+06\n",
      "  -2.19222502e+05 -1.59239991e+06 -2.20578101e+05  6.32826934e+06\n",
      "   8.05636083e+06 -1.39660537e+06 -6.62391237e+05 -7.73330285e+06\n",
      "  -2.38877342e+06 -4.39177772e+05 -1.60718602e+06 -1.41457519e+06\n",
      "  -1.79798370e+05 -4.11743479e+06  1.38818036e+06 -3.90960002e+06\n",
      "   1.35998436e+05 -1.93246344e+06  4.48007486e+06  3.67196608e+06\n",
      "   1.77017304e+06 -1.77677512e+06 -6.75749933e+05  2.15268274e+06\n",
      "  -2.73811015e+06  7.39539310e+05 -2.46467383e+06 -1.39856011e+06\n",
      "  -5.72203309e+06 -9.85037001e+05 -1.30095858e+06 -2.38008845e+04\n",
      "  -3.27960668e+06  6.42380668e+06 -2.16968620e+06  2.50114526e+06\n",
      "   1.45208861e+06 -9.18380063e+05 -1.75404423e+06 -8.07760633e+05\n",
      "  -5.63080876e+06 -8.84247234e+06 -4.03052022e+06 -6.15917484e+06\n",
      "  -1.29441394e+06 -3.95007975e+06 -7.46092227e+06 -3.67510001e+06\n",
      "  -7.78718259e+05 -5.34112368e+06 -7.58546665e+06 -3.72188152e+05\n",
      "  -5.48704636e+06  1.54114306e+05 -5.34936996e+06 -2.43260373e+06\n",
      "   1.03545376e+06 -2.96454906e+06 -9.76452504e+06 -5.10629970e+06\n",
      "  -7.63335003e+06 -5.20062585e+06 -1.91615335e+06 -2.38633930e+06\n",
      "   5.43192183e+05 -5.95214642e+06 -5.58821872e+06 -8.77299858e+05\n",
      "  -4.03408085e+06 -1.26653663e+06 -4.57328886e+06 -1.01137518e+06\n",
      "  -3.64738865e+06 -2.17085279e+06 -1.37261272e+06  2.69322210e+06\n",
      "   7.81530381e+04 -1.83229871e+06 -1.24920063e+06 -9.87071770e+04\n",
      "   1.51979137e+06 -2.97141568e+06 -3.17438724e+05  2.65888223e+06\n",
      "  -2.18178961e+06  3.91748297e+06 -2.18300453e+06  1.82193567e+06\n",
      "   9.89914195e+06  1.27778997e+06 -3.73763613e+06 -8.99093845e+05\n",
      "  -4.36517745e+06  2.83715584e+06 -2.72325378e+06  7.63740272e+04\n",
      "  -1.12890600e+06  2.87850565e+06  2.29708463e+03  4.11627606e+05\n",
      "  -1.14739413e+06  5.40970314e+05 -1.18467792e+06  1.19086554e+06\n",
      "  -2.76616230e+06 -2.00151113e+06 -4.23039820e+06  1.39537297e+06\n",
      "  -1.52006361e+06 -2.68075091e+06  3.20257541e+06 -4.26431015e+06\n",
      "  -1.33584468e+05 -8.49734513e+05 -1.19705567e+05 -1.56521223e+06\n",
      "   4.38326177e+06 -1.29800960e+06 -1.22234101e+06 -9.99520866e+05\n",
      "   1.72786989e+06 -3.86083692e+06 -2.13581287e+06  2.82954615e+06\n",
      "  -2.46833080e+06 -5.28800189e+05  2.38507134e+06 -8.08223997e+05\n",
      "  -1.26146294e+06  2.55444502e+06 -6.90814236e+05  1.33214412e+06\n",
      "  -2.03474561e+06 -1.83570765e+06 -3.88474467e+05 -2.52921593e+05\n",
      "  -3.34746141e+06  8.23365092e+05 -2.46127076e+06  1.67249141e+05\n",
      "  -2.18713586e+05 -8.80672645e+05  2.24275022e+06  2.18823239e+05\n",
      "   1.01575684e+06  2.52174993e+06 -4.13777204e+05  3.27170941e+06\n",
      "   1.66780572e+06 -4.08051546e+06  4.07164667e+06 -3.45778665e+06\n",
      "  -1.26432496e+06  4.86417424e+06 -3.19212177e+06 -2.10401959e+05\n",
      "  -4.11842572e+06 -4.78114498e+06  2.78865244e+06  1.35435239e+06\n",
      "   4.94199736e+05 -3.02102431e+06 -1.09323104e+06 -1.84744244e+06\n",
      "   4.85528359e+04 -3.39570619e+06  2.21302058e+06  4.31164175e+06\n",
      "  -4.77621559e+05  4.23613284e+05 -6.96033631e+05  8.68747347e+05\n",
      "  -7.71399593e+05  4.21831743e+05 -1.90760732e+06 -5.50555154e+06\n",
      "  -1.50465677e+06  3.46083039e+06 -4.05674058e+05 -2.92541085e+06\n",
      "   4.54696702e+06 -1.03726144e+06 -2.83657331e+06 -4.12109258e+05\n",
      "  -2.87820178e+06  1.96562010e+06  2.28180149e+05  2.08164116e+06\n",
      "  -1.98023646e+06  1.86484500e+06 -9.11594532e+05 -1.22266871e+06\n",
      "  -6.68792581e+06  6.16364707e+05 -8.66906116e+05  1.36311113e+06\n",
      "  -3.50111135e+06 -2.19642102e+06 -2.08243532e+06 -1.25080773e+06\n",
      "  -3.37010009e+06 -3.40649170e+06  2.28987715e+06 -5.58595360e+06\n",
      "   4.53546195e+06 -1.23597429e+06  4.13831331e+05  9.71804424e+05\n",
      "   2.25879795e+06  2.49373766e+06  3.65817571e+05 -4.43911938e+05\n",
      "  -2.73719053e+06 -3.08271964e+05  2.29512423e+06 -2.12877474e+06\n",
      "   4.66931974e+06 -3.00069748e+06  9.76413822e+05 -1.12346711e+06\n",
      "  -1.27404353e+06 -4.06756594e+06 -6.44952976e+06 -8.42441625e+05\n",
      "   5.27708542e+05  9.48804927e+04  1.71185430e+04 -7.61709809e+06\n",
      "   9.06660364e+05  2.87521015e+05 -3.97254309e+06 -6.55299987e+05\n",
      "  -6.43083996e+05  2.34933163e+06 -6.02075840e+05  1.68082679e+06\n",
      "  -1.60762953e+06 -2.60737881e+06  1.00090534e+06 -1.08177081e+06\n",
      "  -2.66380825e+06  2.42987036e+06 -1.44456488e+06  6.02098647e+05\n",
      "   2.10481450e+06  8.28848834e+06 -6.13515636e+05 -1.07843712e+06\n",
      "  -3.64563456e+06  4.01825333e+06 -3.68798865e+05  1.81414687e+06\n",
      "   7.60819258e+05 -3.72585416e+06 -2.89259376e+05  1.59825699e+06\n",
      "   3.78293137e+06  1.57684752e+05  1.28850427e+06 -2.51995011e+06\n",
      "  -5.07807746e+06 -8.07082434e+05 -4.50710148e+06 -7.67835435e+05\n",
      "  -2.06151128e+06  2.35115111e+06 -2.44019434e+06 -3.23914386e+06\n",
      "  -6.96422563e+05  2.36356069e+06 -7.02644713e+05  4.08693922e+06\n",
      "   1.36362124e+06  1.05974430e+06  6.66669118e+05 -4.53402271e+06\n",
      "   1.26381930e+06  9.66435182e+05 -1.45090202e+06  7.54593468e+06\n",
      "   3.75328560e+06 -1.18401480e+06 -3.81070378e+06 -3.75483980e+05\n",
      "  -3.35955866e+06  1.15378857e+06 -1.29433086e+06  1.30064991e+06\n",
      "   2.18251467e+06 -2.09628675e+06  1.74375060e+06  1.41443510e+06\n",
      "   3.68382929e+04  2.78243585e+06  2.61124703e+06  2.83259197e+05\n",
      "   1.64506859e+06  1.03806031e+06 -2.45486018e+06 -2.54440106e+05\n",
      "  -1.87787450e+06  1.78157225e+06  1.76298358e+05  3.72223181e+06\n",
      "   3.04200738e+05 -1.87290731e+05  4.87143204e+05  8.73426233e+05\n",
      "  -1.24149258e+06  4.17218540e+06 -5.05665491e+06 -5.25483818e+06\n",
      "  -6.39496876e+05  2.61227798e+06 -2.86806612e+04  5.33692288e+05\n",
      "  -1.79732559e+06 -4.30104803e+05  2.87163653e+06 -1.10740323e+06\n",
      "   3.55307882e+06  1.03027719e+06 -1.57097944e+06  2.84752798e+06\n",
      "   1.22703502e+05  4.24006787e+06  3.48884162e+06  6.30949279e+05\n",
      "   2.36793848e+06  3.20873479e+06 -7.34198175e+05  1.41379196e+06\n",
      "   1.22574524e+06  2.66039957e+06  2.29663853e+05 -4.17085699e+06\n",
      "  -1.02181657e+06  1.33349788e+06 -2.86794068e+06  1.64526528e+06\n",
      "  -1.11358889e+06  1.32811962e+06  1.98238199e+06  4.37153462e+06\n",
      "   1.58262579e+06  2.29896623e+06  9.00377358e+05  9.70760861e+05\n",
      "   1.88132659e+06  6.36122513e+05 -3.21739108e+06 -7.28412923e+05\n",
      "  -1.16062038e+06 -1.00758617e+06 -5.49161602e+06  3.27479298e+06\n",
      "  -1.11415516e+06  3.08324434e+05  2.16391448e+06 -3.44207855e+06\n",
      "   3.16292844e+06 -7.03831137e+05 -1.42616929e+06 -2.93882701e+06\n",
      "  -5.88572497e+05 -1.14269234e+06 -1.68373843e+06 -2.95225886e+05\n",
      "  -2.62080330e+06 -3.99932283e+05  4.86350113e+05 -3.56223692e+06\n",
      "  -1.42931166e+06  1.04545646e+05 -3.98168838e+06  1.02946436e+06\n",
      "   2.06625944e+06  8.21784138e+05  1.92870051e+06  1.52630602e+05\n",
      "  -9.58680130e+05  1.77152580e+06  7.41662135e+05 -9.02193093e+05\n",
      "  -2.95455615e+06  1.31457899e+06  8.23684268e+05  1.83133944e+05\n",
      "  -3.66980599e+06 -7.48177763e+05  1.12901084e+06  5.61057252e+06\n",
      "   1.48457533e+06  2.00777396e+06  1.05300934e+06 -6.20265747e+06\n",
      "   6.23770068e+06  6.35798228e+06 -2.60373014e+05 -1.10936545e+06\n",
      "  -6.98876588e+06  9.76102829e+05  3.74912500e+06  4.41619900e+06\n",
      "  -4.50300353e+06 -4.40566040e+05 -4.62987416e+06  7.10727528e+05\n",
      "  -5.45547767e+05  4.00926211e+05  4.16334725e+06  8.48872460e+04\n",
      "  -1.42672224e+06  1.77434053e+06  4.51891011e+05 -3.85730347e+06\n",
      "   1.42771650e+06  2.54166983e+06 -1.06186460e+06  2.99096657e+05\n",
      "   6.60996709e+05 -1.99418737e+06  1.30880991e+06 -2.46076804e+05\n",
      "  -1.39873208e+06 -1.52477847e+06 -7.36878252e+05 -2.15691043e+06\n",
      "   1.46271392e+06  6.25145072e+05  3.22887524e+06  4.41074677e+05\n",
      "   2.17534930e+06 -1.41269639e+06  3.75656000e+05  2.17368755e+06\n",
      "  -2.72783986e+06  3.34336812e+05 -8.69770462e+05  1.91258028e+05\n",
      "  -8.29859085e+04 -2.63758725e+04  1.18135383e+06  3.88784412e+05\n",
      "  -5.20716166e+05 -1.02555388e+06 -4.60929816e+05 -1.54758659e+06\n",
      "  -4.35706667e+05  1.54539448e+06 -6.38495441e+04 -9.72737637e+05\n",
      "   1.12952742e+06  1.39466707e+06 -2.24073526e+06 -3.79544954e+06\n",
      "   1.15380299e+06  2.80243511e+06 -1.65448910e+06  6.85554569e+05\n",
      "  -9.81721889e+05 -1.56267350e+06 -1.86351711e+06 -2.91443934e+06\n",
      "   6.08375396e+06 -3.25110276e+06 -3.30932326e+05  7.72856651e+05\n",
      "  -1.28545279e+05  3.39767702e+06  2.57159364e+06  2.40249334e+04\n",
      "   2.08352826e+06  9.56688298e+06 -5.76164884e+06  4.28226048e+05\n",
      "  -4.63964884e+06 -1.47595627e+06 -4.82337829e+04 -2.48350896e+06\n",
      "   1.85208840e+06 -1.11204633e+06 -3.31257770e+06 -6.25197507e+02\n",
      "   5.23870747e+06  3.59069713e+06  2.96240669e+04 -2.23674878e+06\n",
      "  -4.95382911e+06  8.93361188e+05 -5.32943283e+05  3.81688132e+06\n",
      "  -5.80409444e+05  2.92270543e+06  3.67620828e+06 -2.56250979e+06\n",
      "   1.56993832e+06 -5.16462068e+05  4.03261368e+05  2.96741052e+04\n",
      "   2.31911787e+06 -2.09472003e+06  7.29275233e+03 -6.35237025e+05\n",
      "   2.82635054e+06 -1.93461520e+06  3.28843402e+05 -1.18143596e+06\n",
      "   9.19361772e+05  1.88853335e+06 -2.94524492e+06 -5.99261908e+05\n",
      "   1.21663192e+06 -4.07069170e+05  4.20526828e+05 -2.98552785e+06\n",
      "   3.16747485e+06  1.88921298e+06  1.72980509e+06  3.73563254e+06\n",
      "  -4.18917254e+06 -3.28105490e+05  9.89762229e+05  2.28615245e+06\n",
      "   1.71575987e+06  3.45936574e+06  1.93175474e+06 -1.89114495e+06\n",
      "  -1.01103788e+06  4.43158005e+05  2.16188112e+06 -2.22309207e+06\n",
      "  -2.10182283e+06 -4.56594129e+05  3.38382430e+06  3.74092883e+06\n",
      "  -2.65866741e+06 -9.14145794e+05  2.71266368e+06 -5.31029044e+06\n",
      "  -6.91131049e+05 -4.35111190e+06  1.89511920e+06  4.58277146e+06\n",
      "  -1.94605025e+06  6.54333526e+05  9.94949951e+05 -5.02286717e+05\n",
      "   3.22948258e+06  4.13194134e+05  4.95538882e+05  2.18743235e+06\n",
      "   1.41435217e+06  2.91956452e+06  1.10038074e+06 -1.70571546e+06\n",
      "  -5.79312206e+05  7.67621537e+05  1.00347939e+05 -5.34529453e+05\n",
      "  -9.36594177e+05  1.35628206e+06  5.34850556e+05 -5.09180803e+05\n",
      "   6.54952358e+05 -8.03303248e+05  7.88371459e+05 -1.88485287e+06\n",
      "   1.49811046e+06 -1.02689445e+06  1.57786040e+06 -1.12374922e+06\n",
      "   1.60581064e+06 -2.23244646e+06  1.19904242e+06 -4.70847172e+06\n",
      "  -4.79322321e+05  4.58181425e+06 -2.71330061e+06  1.59085046e+06\n",
      "  -1.22648898e+05  8.04718288e+05 -5.18634333e+05  1.33869386e+06\n",
      "  -1.17985764e+06  8.17462396e+03 -8.86592296e+05  1.25919518e+06\n",
      "   3.12774899e+06 -4.70597267e+06  5.83900669e+05 -2.23560822e+05\n",
      "   2.67439589e+06 -4.78996744e+05  8.50529063e+05 -1.76398336e+06\n",
      "   2.51604177e+06  3.97390591e+05 -2.23132095e+06 -7.82506533e+05\n",
      "   1.96716857e+06  1.17737237e+06]]\n",
      "[1735715.9555919]\n"
     ]
    }
   ],
   "source": [
    "#Xp and testp are the new datasets with only the bottom 35 features\n",
    "poly = PolynomialFeatures(2, include_bias=False, interaction_only=True)\n",
    "X2 = poly.fit_transform(Xp)\n",
    "X2_test=poly.transform(testp)\n",
    "print(X2.shape)\n",
    "# print(test.shape)\n",
    "print(poly.get_feature_names_out())\n",
    "reg = LinearRegression().fit(X2,y)\n",
    "print(reg.score(X2, y))\n",
    "print(reg.coef_)\n",
    "print(reg.intercept_)"
   ]
  },
  {
   "cell_type": "code",
   "execution_count": 33,
   "metadata": {},
   "outputs": [
    {
     "name": "stderr",
     "output_type": "stream",
     "text": [
      "C:\\Users\\hamza\\AppData\\Local\\Packages\\PythonSoftwareFoundation.Python.3.10_qbz5n2kfra8p0\\LocalCache\\local-packages\\Python310\\site-packages\\sklearn\\utils\\validation.py:1183: DataConversionWarning: A column-vector y was passed when a 1d array was expected. Please change the shape of y to (n_samples, ), for example using ravel().\n",
      "  y = column_or_1d(y, warn=True)\n"
     ]
    }
   ],
   "source": [
    "from sklearn.feature_selection import SelectKBest, f_regression\n",
    "\n",
    "#Select top 30 features\n",
    "selector = SelectKBest(f_regression, k=32)\n",
    "X_new = selector.fit_transform(X_new, y)\n",
    "X_new = pd.DataFrame(X_new)\n",
    "Xtest = selector.transform(test_new)"
   ]
  },
  {
   "cell_type": "code",
   "execution_count": null,
   "metadata": {},
   "outputs": [],
   "source": [
    "poly = PolynomialFeatures(2, include_bias=False, interaction_only=True)\n",
    "X2 = poly.fit_transform(X_new)\n",
    "X2_test=poly.transform(Xtest)\n",
    "print(X2.shape)\n",
    "print(test.shape)\n",
    "print(poly.get_feature_names_out())\n",
    "reg = LinearRegression().fit(X2,y)\n",
    "print(reg.score(X2, y))\n",
    "print(reg.coef_)\n",
    "print(reg.intercept_)"
   ]
  },
  {
   "cell_type": "code",
   "execution_count": 41,
   "metadata": {},
   "outputs": [],
   "source": [
    "price_doc = reg.predict(X2_test)"
   ]
  },
  {
   "cell_type": "code",
   "execution_count": 42,
   "metadata": {},
   "outputs": [],
   "source": [
    "#Create a DataFrame for the predictions\n",
    "predictions_df = pd.DataFrame(price_doc, columns=['price_doc'])\n",
    "\n",
    "#Add the record ID from the test data to the predictions DataFrame\n",
    "predictions_df.insert(0, 'row ID', row_id)\n",
    "\n",
    "#Save the predictions to a CSV file\n",
    "predictions_df.to_csv('MLPR with interaction pvalue 35.csv', index=False)"
   ]
  },
  {
   "cell_type": "code",
   "execution_count": null,
   "metadata": {},
   "outputs": [],
   "source": [
    "X_train, X_test, y_train, y_test = train_test_split(X, y, test_size = 0.3)"
   ]
  }
 ],
 "metadata": {
  "kernelspec": {
   "display_name": "Python 3",
   "language": "python",
   "name": "python3"
  },
  "language_info": {
   "codemirror_mode": {
    "name": "ipython",
    "version": 3
   },
   "file_extension": ".py",
   "mimetype": "text/x-python",
   "name": "python",
   "nbconvert_exporter": "python",
   "pygments_lexer": "ipython3",
   "version": "3.10.11"
  }
 },
 "nbformat": 4,
 "nbformat_minor": 2
}
