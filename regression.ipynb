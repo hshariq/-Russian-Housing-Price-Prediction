{
 "cells": [
  {
   "cell_type": "code",
   "execution_count": 1,
   "metadata": {},
   "outputs": [],
   "source": [
    "import pandas as pd\n",
    "import numpy as np\n"
   ]
  },
  {
   "cell_type": "code",
   "execution_count": 60,
   "metadata": {},
   "outputs": [],
   "source": [
    "#read csv files in data\n",
    "train = pd.read_csv('data/train.csv')\n",
    "test= pd.read_csv('data/test.csv')"
   ]
  },
  {
   "cell_type": "code",
   "execution_count": 61,
   "metadata": {},
   "outputs": [
    {
     "data": {
      "text/plain": [
       "Index(['product_type', 'sub_area', 'culture_objects_top_25',\n",
       "       'thermal_power_plant_raion', 'incineration_raion',\n",
       "       'oil_chemistry_raion', 'radiation_raion', 'railroad_terminal_raion',\n",
       "       'big_market_raion', 'nuclear_reactor_raion', 'detention_facility_raion',\n",
       "       'water_1line', 'big_road1_1line', 'railroad_1line', 'ecology'],\n",
       "      dtype='object')"
      ]
     },
     "execution_count": 61,
     "metadata": {},
     "output_type": "execute_result"
    }
   ],
   "source": [
    "#only show train that has dtype=object\n",
    "train.select_dtypes(include=['object']).columns"
   ]
  },
  {
   "cell_type": "code",
   "execution_count": 62,
   "metadata": {},
   "outputs": [],
   "source": [
    "#convert data types where coluhmns have values yes and no to 1 and 0\n",
    "train = train.replace({'yes': 1, 'no': 0})\n",
    "test = test.replace({'yes': 1, 'no': 0})"
   ]
  },
  {
   "cell_type": "code",
   "execution_count": 63,
   "metadata": {},
   "outputs": [
    {
     "data": {
      "text/plain": [
       "Index(['product_type', 'sub_area', 'ecology'], dtype='object')"
      ]
     },
     "execution_count": 63,
     "metadata": {},
     "output_type": "execute_result"
    }
   ],
   "source": [
    "#make surre all yes and no are covnerted\n",
    "train.select_dtypes(include=['object']).columns"
   ]
  },
  {
   "cell_type": "code",
   "execution_count": 64,
   "metadata": {},
   "outputs": [],
   "source": [
    "#  Import the necessary libraries\n",
    "from sklearn.preprocessing import LabelEncoder"
   ]
  },
  {
   "cell_type": "code",
   "execution_count": 65,
   "metadata": {},
   "outputs": [],
   "source": [
    "\n",
    "#Create an instance of LabelEncoder\n",
    "lbl = LabelEncoder()"
   ]
  },
  {
   "cell_type": "code",
   "execution_count": 66,
   "metadata": {},
   "outputs": [
    {
     "data": {
      "text/html": [
       "<style>#sk-container-id-2 {color: black;}#sk-container-id-2 pre{padding: 0;}#sk-container-id-2 div.sk-toggleable {background-color: white;}#sk-container-id-2 label.sk-toggleable__label {cursor: pointer;display: block;width: 100%;margin-bottom: 0;padding: 0.3em;box-sizing: border-box;text-align: center;}#sk-container-id-2 label.sk-toggleable__label-arrow:before {content: \"▸\";float: left;margin-right: 0.25em;color: #696969;}#sk-container-id-2 label.sk-toggleable__label-arrow:hover:before {color: black;}#sk-container-id-2 div.sk-estimator:hover label.sk-toggleable__label-arrow:before {color: black;}#sk-container-id-2 div.sk-toggleable__content {max-height: 0;max-width: 0;overflow: hidden;text-align: left;background-color: #f0f8ff;}#sk-container-id-2 div.sk-toggleable__content pre {margin: 0.2em;color: black;border-radius: 0.25em;background-color: #f0f8ff;}#sk-container-id-2 input.sk-toggleable__control:checked~div.sk-toggleable__content {max-height: 200px;max-width: 100%;overflow: auto;}#sk-container-id-2 input.sk-toggleable__control:checked~label.sk-toggleable__label-arrow:before {content: \"▾\";}#sk-container-id-2 div.sk-estimator input.sk-toggleable__control:checked~label.sk-toggleable__label {background-color: #d4ebff;}#sk-container-id-2 div.sk-label input.sk-toggleable__control:checked~label.sk-toggleable__label {background-color: #d4ebff;}#sk-container-id-2 input.sk-hidden--visually {border: 0;clip: rect(1px 1px 1px 1px);clip: rect(1px, 1px, 1px, 1px);height: 1px;margin: -1px;overflow: hidden;padding: 0;position: absolute;width: 1px;}#sk-container-id-2 div.sk-estimator {font-family: monospace;background-color: #f0f8ff;border: 1px dotted black;border-radius: 0.25em;box-sizing: border-box;margin-bottom: 0.5em;}#sk-container-id-2 div.sk-estimator:hover {background-color: #d4ebff;}#sk-container-id-2 div.sk-parallel-item::after {content: \"\";width: 100%;border-bottom: 1px solid gray;flex-grow: 1;}#sk-container-id-2 div.sk-label:hover label.sk-toggleable__label {background-color: #d4ebff;}#sk-container-id-2 div.sk-serial::before {content: \"\";position: absolute;border-left: 1px solid gray;box-sizing: border-box;top: 0;bottom: 0;left: 50%;z-index: 0;}#sk-container-id-2 div.sk-serial {display: flex;flex-direction: column;align-items: center;background-color: white;padding-right: 0.2em;padding-left: 0.2em;position: relative;}#sk-container-id-2 div.sk-item {position: relative;z-index: 1;}#sk-container-id-2 div.sk-parallel {display: flex;align-items: stretch;justify-content: center;background-color: white;position: relative;}#sk-container-id-2 div.sk-item::before, #sk-container-id-2 div.sk-parallel-item::before {content: \"\";position: absolute;border-left: 1px solid gray;box-sizing: border-box;top: 0;bottom: 0;left: 50%;z-index: -1;}#sk-container-id-2 div.sk-parallel-item {display: flex;flex-direction: column;z-index: 1;position: relative;background-color: white;}#sk-container-id-2 div.sk-parallel-item:first-child::after {align-self: flex-end;width: 50%;}#sk-container-id-2 div.sk-parallel-item:last-child::after {align-self: flex-start;width: 50%;}#sk-container-id-2 div.sk-parallel-item:only-child::after {width: 0;}#sk-container-id-2 div.sk-dashed-wrapped {border: 1px dashed gray;margin: 0 0.4em 0.5em 0.4em;box-sizing: border-box;padding-bottom: 0.4em;background-color: white;}#sk-container-id-2 div.sk-label label {font-family: monospace;font-weight: bold;display: inline-block;line-height: 1.2em;}#sk-container-id-2 div.sk-label-container {text-align: center;}#sk-container-id-2 div.sk-container {/* jupyter's `normalize.less` sets `[hidden] { display: none; }` but bootstrap.min.css set `[hidden] { display: none !important; }` so we also need the `!important` here to be able to override the default hidden behavior on the sphinx rendered scikit-learn.org. See: https://github.com/scikit-learn/scikit-learn/issues/21755 */display: inline-block !important;position: relative;}#sk-container-id-2 div.sk-text-repr-fallback {display: none;}</style><div id=\"sk-container-id-2\" class=\"sk-top-container\"><div class=\"sk-text-repr-fallback\"><pre>LabelEncoder()</pre><b>In a Jupyter environment, please rerun this cell to show the HTML representation or trust the notebook. <br />On GitHub, the HTML representation is unable to render, please try loading this page with nbviewer.org.</b></div><div class=\"sk-container\" hidden><div class=\"sk-item\"><div class=\"sk-estimator sk-toggleable\"><input class=\"sk-toggleable__control sk-hidden--visually\" id=\"sk-estimator-id-2\" type=\"checkbox\" checked><label for=\"sk-estimator-id-2\" class=\"sk-toggleable__label sk-toggleable__label-arrow\">LabelEncoder</label><div class=\"sk-toggleable__content\"><pre>LabelEncoder()</pre></div></div></div></div></div>"
      ],
      "text/plain": [
       "LabelEncoder()"
      ]
     },
     "execution_count": 66,
     "metadata": {},
     "output_type": "execute_result"
    }
   ],
   "source": [
    "\n",
    "#Fit the label encoder on the combined data of train and test datasets\n",
    "lbl.fit(list(train['ecology'].values) + list(test['ecology'].values))"
   ]
  },
  {
   "cell_type": "code",
   "execution_count": 67,
   "metadata": {},
   "outputs": [],
   "source": [
    "\n",
    "#Convert the 'ecology' column in the train dataset\n",
    "train['ecology'] = lbl.transform(list(train['ecology'].values))"
   ]
  },
  {
   "cell_type": "code",
   "execution_count": 68,
   "metadata": {},
   "outputs": [],
   "source": [
    "\n",
    "#Convert the 'ecology' column in the test dataset\n",
    "test['ecology'] = lbl.transform(list(test['ecology'].values))"
   ]
  },
  {
   "cell_type": "code",
   "execution_count": 69,
   "metadata": {},
   "outputs": [],
   "source": [
    "#do label encoding for prodcut type as well\n",
    "lbl.fit(list(train['product_type'].values) + list(test['product_type'].values))\n",
    "train['product_type'] = lbl.transform(list(train['product_type'].values))\n",
    "test['product_type'] = lbl.transform(list(test['product_type'].values))"
   ]
  },
  {
   "cell_type": "code",
   "execution_count": 70,
   "metadata": {},
   "outputs": [],
   "source": [
    "# Get the top 10 sub areas\n",
    "top_10_sub_areas = train['sub_area'].value_counts().nlargest(10).index.tolist()\n",
    "\n",
    "# Replace all other sub areas with \"Others\"\n",
    "train.loc[~train['sub_area'].isin(top_10_sub_areas), 'sub_area'] = 'Others'\n",
    "test.loc[~test['sub_area'].isin(top_10_sub_areas), 'sub_area'] = 'Others'"
   ]
  },
  {
   "cell_type": "code",
   "execution_count": 71,
   "metadata": {},
   "outputs": [
    {
     "data": {
      "text/plain": [
       "array(['Others', \"Chertanovo Central'noe\", 'Tverskoe', 'Alekseevskoe',\n",
       "       'Losinoostrovskoe', 'Shhukino', 'Caricyno', 'Prospekt Vernadskogo',\n",
       "       'Poselenie Voskresenskoe', 'Poselenie Mosrentgen',\n",
       "       'Poselenie Shhapovskoe'], dtype=object)"
      ]
     },
     "execution_count": 71,
     "metadata": {},
     "output_type": "execute_result"
    }
   ],
   "source": [
    "#show unique values in train and test\n",
    "train['sub_area'].unique()  \n",
    "test['sub_area'].unique()"
   ]
  },
  {
   "cell_type": "code",
   "execution_count": 72,
   "metadata": {},
   "outputs": [],
   "source": [
    "train = pd.get_dummies(train, columns=['sub_area'])\n",
    "test = pd.get_dummies(test, columns=['sub_area'])"
   ]
  },
  {
   "cell_type": "code",
   "execution_count": 13,
   "metadata": {},
   "outputs": [],
   "source": [
    "train.drop(columns=['sub_area'], inplace=True)\n",
    "test.drop(columns=['sub_area'], inplace=True)"
   ]
  },
  {
   "cell_type": "code",
   "execution_count": 74,
   "metadata": {},
   "outputs": [],
   "source": [
    "from sklearn.linear_model import LinearRegression\n",
    "from sklearn.model_selection import train_test_split"
   ]
  },
  {
   "cell_type": "code",
   "execution_count": 75,
   "metadata": {},
   "outputs": [],
   "source": [
    "from sklearn.metrics import mean_squared_error\n",
    "from sklearn.preprocessing import PolynomialFeatures"
   ]
  },
  {
   "cell_type": "code",
   "execution_count": 76,
   "metadata": {},
   "outputs": [],
   "source": [
    "X = train.drop(columns=['price_doc'])\n",
    "y = train[['price_doc']]"
   ]
  },
  {
   "cell_type": "code",
   "execution_count": 77,
   "metadata": {},
   "outputs": [],
   "source": [
    "#save row id in a dataframe\n",
    "row_id = test['row ID']\n",
    "#drop it from test now\n",
    "test = test.drop(columns=['row ID'])"
   ]
  },
  {
   "cell_type": "code",
   "execution_count": 18,
   "metadata": {},
   "outputs": [],
   "source": [
    "X_train, X_test, y_train, y_test = train_test_split(X, y, test_size = 0.3)"
   ]
  },
  {
   "cell_type": "code",
   "execution_count": 19,
   "metadata": {},
   "outputs": [
    {
     "name": "stderr",
     "output_type": "stream",
     "text": [
      "C:\\Users\\hamza\\AppData\\Local\\Packages\\PythonSoftwareFoundation.Python.3.10_qbz5n2kfra8p0\\LocalCache\\local-packages\\Python310\\site-packages\\sklearn\\utils\\validation.py:1183: DataConversionWarning: A column-vector y was passed when a 1d array was expected. Please change the shape of y to (n_samples, ), for example using ravel().\n",
      "  y = column_or_1d(y, warn=True)\n"
     ]
    }
   ],
   "source": [
    "from sklearn.feature_selection import SelectKBest, f_regression\n",
    "\n",
    "#Select top 30 features\n",
    "selector = SelectKBest(f_regression, k=30)\n",
    "X_new = selector.fit_transform(X, y)\n",
    "X_new = pd.DataFrame(X_new)"
   ]
  },
  {
   "cell_type": "code",
   "execution_count": 20,
   "metadata": {},
   "outputs": [],
   "source": [
    "from sklearn.preprocessing import MinMaxScaler\n",
    "\n",
    "#Create a scaler object\n",
    "scaler = MinMaxScaler()\n",
    "\n",
    "#Fit the scaler and transform X_new\n",
    "X_new = scaler.fit_transform(X_new)\n"
   ]
  },
  {
   "cell_type": "code",
   "execution_count": 21,
   "metadata": {},
   "outputs": [
    {
     "name": "stdout",
     "output_type": "stream",
     "text": [
      "0.6058679723951985\n",
      "[[11862702.30905803  9062191.01037043   980578.71157445  3114945.26560373\n",
      "   6367646.49059357   504604.46030695  1513017.92620245   110494.693702\n",
      "   3339198.72127779  2829012.11712643  -557834.24889954  4227228.7503756\n",
      "   5768058.23613711  2600383.32405641   896936.96744038  9880639.8874198\n",
      "   9514462.02799702  5636718.08470158  -343424.46457552   242627.88397651\n",
      "   1519958.20436663   837666.78981777  -455019.79739402  5676763.66060707\n",
      "   1519797.68049536  6416199.04141568   818378.14174398   961669.32489456\n",
      "   2146403.77013997  -741443.03743489]]\n",
      "[5735507.96459618]\n",
      "Root Mean squared error: 13694714.68\n"
     ]
    }
   ],
   "source": [
    "\n",
    "#Split the data\n",
    "X_train, X_test, y_train, y_test = train_test_split(X_new, y, test_size = 0.3)\n",
    "\n",
    "#Train the model\n",
    "reg2 = LinearRegression().fit(X_train, y_train)\n",
    "\n",
    "#Print R2 score and coefficients\n",
    "print(reg2.score(X_train, y_train))\n",
    "print(reg2.coef_)\n",
    "print(reg2.intercept_)\n",
    "\n",
    "#Predict on the test set\n",
    "y_pred_test = reg2.predict(X_test)\n",
    "\n",
    "#Calculate and print RMSE\n",
    "mse = mean_squared_error(y_test, y_pred_test)\n",
    "rmse = np.sqrt(mse)\n",
    "print(\"Root Mean squared error: %.2f\" % rmse)"
   ]
  },
  {
   "cell_type": "code",
   "execution_count": 22,
   "metadata": {},
   "outputs": [],
   "source": [
    "reg2 = LinearRegression().fit(X_new, y)"
   ]
  },
  {
   "cell_type": "code",
   "execution_count": 27,
   "metadata": {},
   "outputs": [],
   "source": [
    "from sklearn.preprocessing import MinMaxScaler\n",
    "\n",
    "#Create a scaler object\n",
    "scaler = MinMaxScaler()\n",
    "\n",
    "#Fit the scaler and transform X_new\n",
    "testsclae = scaler.fit_transform(test)\n"
   ]
  },
  {
   "cell_type": "code",
   "execution_count": 28,
   "metadata": {},
   "outputs": [
    {
     "name": "stderr",
     "output_type": "stream",
     "text": [
      "C:\\Users\\hamza\\AppData\\Local\\Packages\\PythonSoftwareFoundation.Python.3.10_qbz5n2kfra8p0\\LocalCache\\local-packages\\Python310\\site-packages\\sklearn\\base.py:465: UserWarning: X does not have valid feature names, but SelectKBest was fitted with feature names\n",
      "  warnings.warn(\n"
     ]
    }
   ],
   "source": [
    "Xtest = selector.transform(testsclae)"
   ]
  },
  {
   "cell_type": "code",
   "execution_count": 78,
   "metadata": {},
   "outputs": [],
   "source": [
    "import statsmodels.api as sm\n",
    "\n",
    "# Add a constant column to the feature matrix\n",
    "XSM = sm.add_constant(train.drop(columns=['price_doc']))\n",
    "\n",
    "# Fit the ordinary least squares (OLS) model\n",
    "model = sm.OLS(train['price_doc'], XSM).fit()\n",
    "\n",
    "# Get the p-values of all columns\n",
    "p_values = model.pvalues\n",
    "\n",
    "# Sort the p-values in ascending order\n",
    "sorted_p_values = p_values.sort_values()\n",
    "\n",
    "# Show only the bottom 35 columns with the lowest p-values\n",
    "bottom_35_p_values = sorted_p_values[:35]\n",
    "\n",
    "# Print the bottom 35 p-values\n",
    "# print(bottom_35_p_values)\n"
   ]
  },
  {
   "cell_type": "code",
   "execution_count": 83,
   "metadata": {},
   "outputs": [],
   "source": [
    "# Use the bottom 35 features above to train the model\n",
    "if 'const' in bottom_35_p_values:\n",
    "    bottom_35_p_values = bottom_35_p_values.drop('const')\n"
   ]
  },
  {
   "cell_type": "code",
   "execution_count": 84,
   "metadata": {},
   "outputs": [
    {
     "data": {
      "text/plain": [
       "sub_area_Tverskoe                        0.000000e+00\n",
       "floor                                    1.353870e-57\n",
       "school_education_centers_top_20_raion    2.602256e-54\n",
       "full_sq                                  4.296093e-51\n",
       "sub_area_Others                          2.837175e-45\n",
       "sub_area_Prospekt Vernadskogo            1.777046e-36\n",
       "leisure_count_500                        2.279875e-36\n",
       "industrial_km                            1.777338e-35\n",
       "product_type                             6.788024e-29\n",
       "culture_objects_top_25_raion             1.160549e-28\n",
       "leisure_count_1000                       3.182589e-28\n",
       "green_part_1000                          1.893579e-25\n",
       "build_count_monolith                     2.579734e-20\n",
       "cafe_count_500_price_high                2.339915e-19\n",
       "mosque_count_500                         3.912821e-18\n",
       "sub_area_Losinoostrovskoe                1.563551e-17\n",
       "sport_count_2000                         4.135465e-17\n",
       "culture_objects_top_25                   6.374648e-17\n",
       "cafe_count_1000_price_high               6.481488e-17\n",
       "green_part_500                           2.162009e-16\n",
       "water_km                                 3.279436e-16\n",
       "cafe_count_1000_price_1500               1.182612e-15\n",
       "railroad_terminal_raion                  1.688233e-15\n",
       "big_road1_1line                          4.073595e-15\n",
       "build_count_1971-1995                    4.832400e-15\n",
       "mosque_count_1000                        1.157158e-14\n",
       "office_sqm_1000                          2.552408e-14\n",
       "raion_build_count_with_builddate_info    4.653492e-14\n",
       "green_zone_km                            4.827802e-14\n",
       "trc_count_1500                           8.059526e-14\n",
       "incineration_raion                       8.153626e-14\n",
       "market_count_1000                        8.628216e-14\n",
       "prom_part_500                            1.019087e-13\n",
       "nuclear_reactor_km                       1.850511e-13\n",
       "dtype: float64"
      ]
     },
     "execution_count": 84,
     "metadata": {},
     "output_type": "execute_result"
    }
   ],
   "source": [
    "bottom_35_p_values"
   ]
  },
  {
   "cell_type": "code",
   "execution_count": 85,
   "metadata": {},
   "outputs": [],
   "source": [
    "# Select the bottom 35 variables from the dataset\n",
    "Xp = train[list(bottom_35_p_values.index)]\n",
    "# Do the same for the test dataset as well\n",
    "testp = test[list(bottom_35_p_values.index)]"
   ]
  },
  {
   "cell_type": "code",
   "execution_count": 86,
   "metadata": {},
   "outputs": [],
   "source": [
    "from sklearn.preprocessing import MinMaxScaler\n",
    "\n",
    "#Create a scaler object\n",
    "scaler = MinMaxScaler()\n",
    "\n",
    "#Fit the scaler and transform X_new\n",
    "testp = scaler.fit_transform(testp)\n",
    "Xp = scaler.fit_transform(Xp)"
   ]
  },
  {
   "cell_type": "code",
   "execution_count": 87,
   "metadata": {},
   "outputs": [
    {
     "name": "stdout",
     "output_type": "stream",
     "text": [
      "(181507, 629)\n",
      "['x0' 'x1' 'x2' 'x3' 'x4' 'x5' 'x6' 'x7' 'x8' 'x9' 'x10' 'x11' 'x12' 'x13'\n",
      " 'x14' 'x15' 'x16' 'x17' 'x18' 'x19' 'x20' 'x21' 'x22' 'x23' 'x24' 'x25'\n",
      " 'x26' 'x27' 'x28' 'x29' 'x30' 'x31' 'x32' 'x33' 'x0^2' 'x0 x1' 'x0 x2'\n",
      " 'x0 x3' 'x0 x4' 'x0 x5' 'x0 x6' 'x0 x7' 'x0 x8' 'x0 x9' 'x0 x10' 'x0 x11'\n",
      " 'x0 x12' 'x0 x13' 'x0 x14' 'x0 x15' 'x0 x16' 'x0 x17' 'x0 x18' 'x0 x19'\n",
      " 'x0 x20' 'x0 x21' 'x0 x22' 'x0 x23' 'x0 x24' 'x0 x25' 'x0 x26' 'x0 x27'\n",
      " 'x0 x28' 'x0 x29' 'x0 x30' 'x0 x31' 'x0 x32' 'x0 x33' 'x1^2' 'x1 x2'\n",
      " 'x1 x3' 'x1 x4' 'x1 x5' 'x1 x6' 'x1 x7' 'x1 x8' 'x1 x9' 'x1 x10' 'x1 x11'\n",
      " 'x1 x12' 'x1 x13' 'x1 x14' 'x1 x15' 'x1 x16' 'x1 x17' 'x1 x18' 'x1 x19'\n",
      " 'x1 x20' 'x1 x21' 'x1 x22' 'x1 x23' 'x1 x24' 'x1 x25' 'x1 x26' 'x1 x27'\n",
      " 'x1 x28' 'x1 x29' 'x1 x30' 'x1 x31' 'x1 x32' 'x1 x33' 'x2^2' 'x2 x3'\n",
      " 'x2 x4' 'x2 x5' 'x2 x6' 'x2 x7' 'x2 x8' 'x2 x9' 'x2 x10' 'x2 x11'\n",
      " 'x2 x12' 'x2 x13' 'x2 x14' 'x2 x15' 'x2 x16' 'x2 x17' 'x2 x18' 'x2 x19'\n",
      " 'x2 x20' 'x2 x21' 'x2 x22' 'x2 x23' 'x2 x24' 'x2 x25' 'x2 x26' 'x2 x27'\n",
      " 'x2 x28' 'x2 x29' 'x2 x30' 'x2 x31' 'x2 x32' 'x2 x33' 'x3^2' 'x3 x4'\n",
      " 'x3 x5' 'x3 x6' 'x3 x7' 'x3 x8' 'x3 x9' 'x3 x10' 'x3 x11' 'x3 x12'\n",
      " 'x3 x13' 'x3 x14' 'x3 x15' 'x3 x16' 'x3 x17' 'x3 x18' 'x3 x19' 'x3 x20'\n",
      " 'x3 x21' 'x3 x22' 'x3 x23' 'x3 x24' 'x3 x25' 'x3 x26' 'x3 x27' 'x3 x28'\n",
      " 'x3 x29' 'x3 x30' 'x3 x31' 'x3 x32' 'x3 x33' 'x4^2' 'x4 x5' 'x4 x6'\n",
      " 'x4 x7' 'x4 x8' 'x4 x9' 'x4 x10' 'x4 x11' 'x4 x12' 'x4 x13' 'x4 x14'\n",
      " 'x4 x15' 'x4 x16' 'x4 x17' 'x4 x18' 'x4 x19' 'x4 x20' 'x4 x21' 'x4 x22'\n",
      " 'x4 x23' 'x4 x24' 'x4 x25' 'x4 x26' 'x4 x27' 'x4 x28' 'x4 x29' 'x4 x30'\n",
      " 'x4 x31' 'x4 x32' 'x4 x33' 'x5^2' 'x5 x6' 'x5 x7' 'x5 x8' 'x5 x9'\n",
      " 'x5 x10' 'x5 x11' 'x5 x12' 'x5 x13' 'x5 x14' 'x5 x15' 'x5 x16' 'x5 x17'\n",
      " 'x5 x18' 'x5 x19' 'x5 x20' 'x5 x21' 'x5 x22' 'x5 x23' 'x5 x24' 'x5 x25'\n",
      " 'x5 x26' 'x5 x27' 'x5 x28' 'x5 x29' 'x5 x30' 'x5 x31' 'x5 x32' 'x5 x33'\n",
      " 'x6^2' 'x6 x7' 'x6 x8' 'x6 x9' 'x6 x10' 'x6 x11' 'x6 x12' 'x6 x13'\n",
      " 'x6 x14' 'x6 x15' 'x6 x16' 'x6 x17' 'x6 x18' 'x6 x19' 'x6 x20' 'x6 x21'\n",
      " 'x6 x22' 'x6 x23' 'x6 x24' 'x6 x25' 'x6 x26' 'x6 x27' 'x6 x28' 'x6 x29'\n",
      " 'x6 x30' 'x6 x31' 'x6 x32' 'x6 x33' 'x7^2' 'x7 x8' 'x7 x9' 'x7 x10'\n",
      " 'x7 x11' 'x7 x12' 'x7 x13' 'x7 x14' 'x7 x15' 'x7 x16' 'x7 x17' 'x7 x18'\n",
      " 'x7 x19' 'x7 x20' 'x7 x21' 'x7 x22' 'x7 x23' 'x7 x24' 'x7 x25' 'x7 x26'\n",
      " 'x7 x27' 'x7 x28' 'x7 x29' 'x7 x30' 'x7 x31' 'x7 x32' 'x7 x33' 'x8^2'\n",
      " 'x8 x9' 'x8 x10' 'x8 x11' 'x8 x12' 'x8 x13' 'x8 x14' 'x8 x15' 'x8 x16'\n",
      " 'x8 x17' 'x8 x18' 'x8 x19' 'x8 x20' 'x8 x21' 'x8 x22' 'x8 x23' 'x8 x24'\n",
      " 'x8 x25' 'x8 x26' 'x8 x27' 'x8 x28' 'x8 x29' 'x8 x30' 'x8 x31' 'x8 x32'\n",
      " 'x8 x33' 'x9^2' 'x9 x10' 'x9 x11' 'x9 x12' 'x9 x13' 'x9 x14' 'x9 x15'\n",
      " 'x9 x16' 'x9 x17' 'x9 x18' 'x9 x19' 'x9 x20' 'x9 x21' 'x9 x22' 'x9 x23'\n",
      " 'x9 x24' 'x9 x25' 'x9 x26' 'x9 x27' 'x9 x28' 'x9 x29' 'x9 x30' 'x9 x31'\n",
      " 'x9 x32' 'x9 x33' 'x10^2' 'x10 x11' 'x10 x12' 'x10 x13' 'x10 x14'\n",
      " 'x10 x15' 'x10 x16' 'x10 x17' 'x10 x18' 'x10 x19' 'x10 x20' 'x10 x21'\n",
      " 'x10 x22' 'x10 x23' 'x10 x24' 'x10 x25' 'x10 x26' 'x10 x27' 'x10 x28'\n",
      " 'x10 x29' 'x10 x30' 'x10 x31' 'x10 x32' 'x10 x33' 'x11^2' 'x11 x12'\n",
      " 'x11 x13' 'x11 x14' 'x11 x15' 'x11 x16' 'x11 x17' 'x11 x18' 'x11 x19'\n",
      " 'x11 x20' 'x11 x21' 'x11 x22' 'x11 x23' 'x11 x24' 'x11 x25' 'x11 x26'\n",
      " 'x11 x27' 'x11 x28' 'x11 x29' 'x11 x30' 'x11 x31' 'x11 x32' 'x11 x33'\n",
      " 'x12^2' 'x12 x13' 'x12 x14' 'x12 x15' 'x12 x16' 'x12 x17' 'x12 x18'\n",
      " 'x12 x19' 'x12 x20' 'x12 x21' 'x12 x22' 'x12 x23' 'x12 x24' 'x12 x25'\n",
      " 'x12 x26' 'x12 x27' 'x12 x28' 'x12 x29' 'x12 x30' 'x12 x31' 'x12 x32'\n",
      " 'x12 x33' 'x13^2' 'x13 x14' 'x13 x15' 'x13 x16' 'x13 x17' 'x13 x18'\n",
      " 'x13 x19' 'x13 x20' 'x13 x21' 'x13 x22' 'x13 x23' 'x13 x24' 'x13 x25'\n",
      " 'x13 x26' 'x13 x27' 'x13 x28' 'x13 x29' 'x13 x30' 'x13 x31' 'x13 x32'\n",
      " 'x13 x33' 'x14^2' 'x14 x15' 'x14 x16' 'x14 x17' 'x14 x18' 'x14 x19'\n",
      " 'x14 x20' 'x14 x21' 'x14 x22' 'x14 x23' 'x14 x24' 'x14 x25' 'x14 x26'\n",
      " 'x14 x27' 'x14 x28' 'x14 x29' 'x14 x30' 'x14 x31' 'x14 x32' 'x14 x33'\n",
      " 'x15^2' 'x15 x16' 'x15 x17' 'x15 x18' 'x15 x19' 'x15 x20' 'x15 x21'\n",
      " 'x15 x22' 'x15 x23' 'x15 x24' 'x15 x25' 'x15 x26' 'x15 x27' 'x15 x28'\n",
      " 'x15 x29' 'x15 x30' 'x15 x31' 'x15 x32' 'x15 x33' 'x16^2' 'x16 x17'\n",
      " 'x16 x18' 'x16 x19' 'x16 x20' 'x16 x21' 'x16 x22' 'x16 x23' 'x16 x24'\n",
      " 'x16 x25' 'x16 x26' 'x16 x27' 'x16 x28' 'x16 x29' 'x16 x30' 'x16 x31'\n",
      " 'x16 x32' 'x16 x33' 'x17^2' 'x17 x18' 'x17 x19' 'x17 x20' 'x17 x21'\n",
      " 'x17 x22' 'x17 x23' 'x17 x24' 'x17 x25' 'x17 x26' 'x17 x27' 'x17 x28'\n",
      " 'x17 x29' 'x17 x30' 'x17 x31' 'x17 x32' 'x17 x33' 'x18^2' 'x18 x19'\n",
      " 'x18 x20' 'x18 x21' 'x18 x22' 'x18 x23' 'x18 x24' 'x18 x25' 'x18 x26'\n",
      " 'x18 x27' 'x18 x28' 'x18 x29' 'x18 x30' 'x18 x31' 'x18 x32' 'x18 x33'\n",
      " 'x19^2' 'x19 x20' 'x19 x21' 'x19 x22' 'x19 x23' 'x19 x24' 'x19 x25'\n",
      " 'x19 x26' 'x19 x27' 'x19 x28' 'x19 x29' 'x19 x30' 'x19 x31' 'x19 x32'\n",
      " 'x19 x33' 'x20^2' 'x20 x21' 'x20 x22' 'x20 x23' 'x20 x24' 'x20 x25'\n",
      " 'x20 x26' 'x20 x27' 'x20 x28' 'x20 x29' 'x20 x30' 'x20 x31' 'x20 x32'\n",
      " 'x20 x33' 'x21^2' 'x21 x22' 'x21 x23' 'x21 x24' 'x21 x25' 'x21 x26'\n",
      " 'x21 x27' 'x21 x28' 'x21 x29' 'x21 x30' 'x21 x31' 'x21 x32' 'x21 x33'\n",
      " 'x22^2' 'x22 x23' 'x22 x24' 'x22 x25' 'x22 x26' 'x22 x27' 'x22 x28'\n",
      " 'x22 x29' 'x22 x30' 'x22 x31' 'x22 x32' 'x22 x33' 'x23^2' 'x23 x24'\n",
      " 'x23 x25' 'x23 x26' 'x23 x27' 'x23 x28' 'x23 x29' 'x23 x30' 'x23 x31'\n",
      " 'x23 x32' 'x23 x33' 'x24^2' 'x24 x25' 'x24 x26' 'x24 x27' 'x24 x28'\n",
      " 'x24 x29' 'x24 x30' 'x24 x31' 'x24 x32' 'x24 x33' 'x25^2' 'x25 x26'\n",
      " 'x25 x27' 'x25 x28' 'x25 x29' 'x25 x30' 'x25 x31' 'x25 x32' 'x25 x33'\n",
      " 'x26^2' 'x26 x27' 'x26 x28' 'x26 x29' 'x26 x30' 'x26 x31' 'x26 x32'\n",
      " 'x26 x33' 'x27^2' 'x27 x28' 'x27 x29' 'x27 x30' 'x27 x31' 'x27 x32'\n",
      " 'x27 x33' 'x28^2' 'x28 x29' 'x28 x30' 'x28 x31' 'x28 x32' 'x28 x33'\n",
      " 'x29^2' 'x29 x30' 'x29 x31' 'x29 x32' 'x29 x33' 'x30^2' 'x30 x31'\n",
      " 'x30 x32' 'x30 x33' 'x31^2' 'x31 x32' 'x31 x33' 'x32^2' 'x32 x33' 'x33^2']\n",
      "0.6457238504806031\n",
      "[[ 7.03817762e+15  1.08166408e+07 -3.53523931e+06  8.42253338e+07\n",
      "  -4.12024416e+17  5.70470326e+18  2.30730418e+07  2.28928588e+06\n",
      "   2.05637356e+18 -1.05556538e+06  1.15821254e+07  3.97813762e+06\n",
      "  -9.79651312e+05  4.40700553e+07  7.04319538e+06 -1.81437646e+16\n",
      "   1.11626679e+07 -1.08748975e+18  3.13613524e+07  4.68608931e+06\n",
      "  -4.97677062e+05  4.65064244e+07 -2.81517782e+18 -6.12016311e+17\n",
      "  -5.88170625e+04 -6.00001998e+07 -1.33017469e+06  6.87372000e+05\n",
      "   5.49305556e+06 -4.24871094e+05 -5.08478687e+18 -6.35318894e+06\n",
      "  -1.75690362e+06 -4.47987200e+06  4.39353166e+17 -2.92266000e+06\n",
      "   1.50959626e+16  3.20650626e+08 -1.35759428e+16 -9.73996629e+16\n",
      "  -3.99233680e+07 -2.05127880e+08 -1.07505280e+07  1.11912832e+17\n",
      "  -1.80436800e+07  1.52837480e+08 -2.39409268e+18 -4.91668640e+07\n",
      "   1.49419429e+17  4.47355422e+16  1.82084480e+07  1.04337176e+17\n",
      "   1.81323680e+07 -1.06375960e+08 -6.15135200e+06 -5.88632000e+07\n",
      "  -2.41791241e+17  6.50063700e+06 -3.46319149e+17  5.47263860e+07\n",
      "   3.90105440e+07  3.69519428e+17 -7.06437800e+06  5.81536960e+07\n",
      "  -3.10836829e+16  3.16280400e+07 -3.89399380e+07  5.02929852e+08\n",
      "   2.34022400e+06 -2.35460800e+06 -8.07168000e+06  5.32566400e+06\n",
      "  -5.18519600e+06 -1.50682400e+06 -8.87488000e+05 -1.27987200e+06\n",
      "  -4.54369600e+06 -1.66800000e+06 -3.30182400e+06  1.51689600e+06\n",
      "   4.84870400e+06 -3.82694400e+06 -5.79344000e+06  1.90192000e+06\n",
      "  -1.78832000e+06  6.66624000e+05 -2.24777600e+06 -5.87900800e+06\n",
      "   1.40550400e+06  2.03968000e+06 -2.42579200e+06  3.45348800e+06\n",
      "  -6.14452000e+05 -2.19100800e+06  1.35955200e+06 -3.39488000e+05\n",
      "  -2.67644800e+06 -5.95816000e+05 -9.70656000e+05 -5.41364600e+06\n",
      "  -1.72040000e+06  2.60032000e+05 -2.91332800e+06  6.53043200e+06\n",
      "  -4.51382856e+16 -4.71136000e+05  4.28112000e+05  1.31545600e+06\n",
      "  -1.57910400e+06  1.25412800e+06 -7.95712000e+05 -1.27958400e+06\n",
      "   1.32544750e+06 -7.91712000e+05  3.59691200e+07 -2.95772800e+06\n",
      "   2.00792000e+06  4.21628800e+06 -2.87508000e+06  3.03948000e+05\n",
      "   1.85259200e+06  3.20608000e+05  2.10153600e+06 -1.60035200e+06\n",
      "  -1.50342400e+06 -1.49785600e+06 -3.78880000e+05 -5.70592000e+05\n",
      "   4.20390400e+06  2.77545600e+06 -3.10528000e+06 -4.74592000e+05\n",
      "  -3.01676800e+06 -1.38259520e+07 -8.84902400e+06  1.45506469e+09\n",
      "  -8.64645600e+06 -5.00720000e+06 -4.41728000e+05 -8.21812800e+06\n",
      "  -6.65392000e+06 -1.11360000e+04 -4.36931200e+06 -1.79500800e+06\n",
      "  -7.47867200e+06  5.64840352e+08  7.27840000e+05 -1.71891200e+06\n",
      "  -3.22188800e+06 -6.65068800e+06 -3.03360000e+06 -5.98819200e+06\n",
      "  -2.04684800e+06 -9.83360000e+05 -5.34249600e+06 -6.38571200e+06\n",
      "  -3.15457600e+06 -5.37536000e+05 -5.71841600e+06 -1.36005600e+06\n",
      "  -2.74334400e+06 -8.25318400e+06 -4.48716000e+06 -4.98118400e+06\n",
      "   4.12024416e+17  4.45868090e+16 -2.30859200e+07  9.94142400e+06\n",
      "  -5.66016000e+05  1.12320000e+07  3.84563200e+06 -2.48537600e+06\n",
      "   6.66003200e+06 -4.10972160e+07  5.62748000e+06 -4.04665648e+16\n",
      "  -4.80435200e+06  2.93635200e+06 -1.95737280e+07 -9.09544000e+05\n",
      "   2.49152000e+06 -3.89021440e+07 -3.94380800e+06 -1.68294400e+06\n",
      "   6.55936000e+05  6.32684400e+07  5.88288000e+06  3.43680000e+05\n",
      "  -7.31020800e+06  2.20070400e+06  5.30950400e+06  5.16265600e+06\n",
      "   6.69584000e+05 -3.41504000e+05 -4.96521816e+18 -4.04216073e+16\n",
      "  -5.12488040e+07 -5.34981000e+06 -4.67258777e+16  6.83285129e+07\n",
      "   5.86518800e+06 -1.74122078e+18 -2.54472149e+16  1.20424195e+16\n",
      "   2.33622138e+16  1.88927800e+07 -2.85052697e+15 -1.28379877e+16\n",
      "   8.93569200e+06 -2.75810800e+07 -2.05051890e+08  2.12943743e+16\n",
      "  -2.28216800e+06 -3.38247239e+17  6.35269600e+07 -1.32821481e+08\n",
      "  -5.49357191e+17  1.79032960e+07 -7.14688400e+06 -9.23904640e+15\n",
      "  -3.08739560e+07 -4.62845383e+16 -4.44830705e+08  3.50022400e+06\n",
      "  -1.57098400e+06 -2.74483200e+06 -1.21456000e+06  1.32906000e+06\n",
      "   2.47347200e+06 -6.57728000e+05  1.10991000e+06  4.68800000e+04\n",
      "   1.55777416e+08  3.05332800e+06 -9.31840000e+04 -7.56416000e+05\n",
      "  -1.60870400e+06 -1.29608000e+06 -4.68748400e+06 -7.33376000e+05\n",
      "   8.82880000e+05 -4.85088000e+05  5.75488000e+05  7.48448000e+05\n",
      "   9.12812800e+06 -2.50864000e+06  7.58272000e+05  1.47372800e+06\n",
      "  -3.71360000e+06  3.61267200e+06  3.91155200e+06  1.80515200e+06\n",
      "  -1.84332800e+06 -2.83228000e+06 -4.91756800e+06 -4.96979200e+06\n",
      "   3.59811200e+06 -6.67936000e+05 -2.72778400e+06 -1.60327200e+07\n",
      "   6.87820800e+06  9.71872000e+05 -2.11648000e+05 -1.55692800e+06\n",
      "  -3.52308800e+06  1.42144000e+06  5.11488000e+05 -9.36672000e+05\n",
      "  -1.81972400e+06 -6.72260000e+04  1.58415600e+06 -1.22278400e+06\n",
      "  -2.78904000e+05 -1.53824000e+05 -1.48469225e+06  3.30864000e+06\n",
      "  -2.23873400e+06 -4.28704000e+06 -2.05637356e+18  2.19084800e+06\n",
      "  -4.72953600e+06 -5.77792000e+05 -3.66118400e+06 -4.03008000e+05\n",
      "   1.30291200e+06 -1.76118400e+06  4.83180800e+06  2.41382400e+06\n",
      "   1.76352000e+06 -1.58003200e+06 -1.62700800e+06  5.02080000e+05\n",
      "   3.42144000e+05 -7.87904000e+05  9.35424000e+05  1.08377600e+06\n",
      "   1.34400000e+06  8.66688000e+05 -3.06329600e+06  1.87904000e+05\n",
      "  -2.25280000e+04  5.38624000e+05  5.48992000e+05 -3.11680000e+05\n",
      "   1.77424000e+06 -2.19804800e+06  4.22256000e+05 -9.77920000e+04\n",
      "  -3.83976000e+06 -2.09164800e+06  7.54640184e+08  6.16388800e+06\n",
      "  -6.09280000e+05 -2.22188800e+06 -9.39920000e+04 -2.13760000e+06\n",
      "  -6.33856000e+05  5.32992000e+05  1.43360000e+05 -3.50000000e+05\n",
      "   3.15056000e+05  1.05936000e+06  8.41600000e+04  1.31952000e+06\n",
      "   3.43078400e+06 -1.55816800e+06 -1.08864000e+06 -4.13078400e+06\n",
      "   1.07488000e+06 -1.12307200e+06 -1.06796800e+06 -1.08608000e+06\n",
      "   1.07712000e+05 -2.54128000e+05 -7.14009696e+08  2.95680000e+04\n",
      "  -2.57344000e+05 -2.69459200e+06  2.79596800e+06  1.43347200e+06\n",
      "  -4.79408000e+06  2.56448000e+05 -3.34368000e+05  3.08510400e+06\n",
      "  -3.63168000e+05  2.89395200e+06 -4.63148800e+06  1.97662400e+06\n",
      "  -7.15488000e+06  1.16296000e+06  5.21646400e+06 -2.81068800e+06\n",
      "  -1.48396800e+06 -2.58668800e+06  2.60838200e+06  7.91481600e+06\n",
      "   7.52928000e+05 -7.73154400e+06 -1.57014400e+06 -8.45648000e+05\n",
      "  -2.55264000e+05 -1.37875200e+06  1.91383600e+06  1.00305600e+06\n",
      "  -4.33408000e+05  5.90624000e+05  4.13389600e+06  3.81232000e+05\n",
      "   1.77485400e+06 -3.81708800e+06  1.32428400e+06 -2.11468800e+06\n",
      "  -2.87120000e+05  2.46265600e+06 -4.79688000e+05  2.87488000e+05\n",
      "  -8.44164000e+05 -2.73776000e+05  1.67200000e+04  2.95489696e+08\n",
      "   2.50355200e+06  1.53868800e+06 -1.68142000e+06 -2.98656000e+05\n",
      "   1.30580800e+06  3.37388800e+06  2.08448000e+05 -4.91984000e+05\n",
      "   1.22341797e+06 -2.51045600e+06 -5.75329400e+06 -3.34051200e+06\n",
      "   9.60266000e+05  1.10601600e+06  1.42276800e+06 -8.97024000e+05\n",
      "  -1.03396800e+06 -2.99609600e+06 -1.98400000e+03  7.59136000e+05\n",
      "   8.31952496e+08 -2.08795200e+06  7.86560000e+04 -3.90425600e+06\n",
      "  -1.44006400e+06 -6.15936000e+05 -8.76640000e+05  6.34752000e+05\n",
      "  -1.26012800e+06  1.43003200e+06  2.63674400e+06 -5.36632000e+06\n",
      "  -1.65318400e+06  2.28206400e+06 -4.80044800e+06 -1.72747200e+06\n",
      "  -1.43888000e+05  1.24220000e+06  4.06430400e+06 -3.07118400e+06\n",
      "  -1.13394453e+09 -3.11581800e+06  7.88736000e+05 -1.70139600e+06\n",
      "  -8.08000000e+04 -2.78368000e+05  6.73173600e+06 -1.98992000e+06\n",
      "   2.14103800e+06  7.74880000e+04 -7.18484800e+06  5.06752000e+05\n",
      "   9.74560000e+05  1.47392000e+05 -7.76992000e+05 -1.12870400e+06\n",
      "  -2.35481600e+06  1.44467200e+06  2.52243200e+06  1.81437646e+16\n",
      "   2.51241600e+06 -7.51584640e+07 -9.65347040e+08 -1.56523200e+06\n",
      "  -3.03374400e+06  7.56924000e+06 -3.99811200e+07 -2.11461616e+08\n",
      "  -7.96624560e+07  8.86706240e+07 -8.93899440e+07 -2.01548240e+07\n",
      "  -1.01184800e+07 -5.17102400e+06  3.78581744e+08 -8.35232000e+05\n",
      "   1.59292800e+06  1.02700200e+08 -5.78393600e+06 -1.13766400e+06\n",
      "  -5.77702400e+06  4.11360000e+05  1.57939200e+06 -2.33020800e+06\n",
      "  -1.67296000e+05  2.77440000e+05 -2.73510400e+06  2.08960000e+06\n",
      "  -5.39795200e+06  2.29056000e+06  1.68793600e+06 -4.29284000e+06\n",
      "   1.33805050e+06  3.78656000e+05  3.23150000e+04 -1.15331200e+06\n",
      "   1.08748975e+18 -2.38752000e+05  5.11104000e+05  3.05600000e+05\n",
      "  -5.80256000e+05  4.00928000e+05  3.94336000e+05 -7.29576000e+05\n",
      "  -5.77800000e+05 -5.28096000e+05 -2.79168000e+05 -1.29055200e+06\n",
      "  -1.67792000e+05 -5.49504000e+05  1.25190400e+06 -8.25136000e+05\n",
      "   1.10988000e+06 -2.55017000e+06  4.42512000e+06  8.24336000e+05\n",
      "  -1.21366400e+06 -1.45689600e+06 -2.99300000e+06  3.29612000e+06\n",
      "  -2.29585600e+06  3.38236000e+05 -4.96320000e+05  3.13328000e+05\n",
      "   1.70179200e+06 -1.05688800e+06  6.48032000e+05  3.31584000e+05\n",
      "  -3.08348800e+06 -3.30264000e+06  3.91209600e+06 -1.76220800e+06\n",
      "   1.76550400e+06 -1.43360000e+06 -1.07039200e+06  3.06232000e+06\n",
      "   5.30432000e+05  1.64345600e+06 -7.56272000e+05  5.54887350e+06\n",
      "  -1.21107200e+06  1.92686400e+06 -1.39291200e+06  9.14080000e+05\n",
      "  -3.92480000e+06 -1.47737600e+06 -1.76889600e+06 -6.38752000e+05\n",
      "   2.96851200e+06  3.05986400e+06 -3.26912000e+05 -2.76454400e+06\n",
      "   3.08617600e+06  3.70787200e+06 -5.47616000e+05  2.01499200e+06\n",
      "   3.83720800e+06  1.53392000e+06  2.72785600e+06 -4.11520000e+04\n",
      "   3.08856000e+05  1.27047200e+06  1.86188000e+06 -5.36235200e+06\n",
      "  -1.25772800e+06  1.99182400e+06 -6.44729600e+06 -4.83200000e+05\n",
      "   6.39136000e+05  1.04488000e+06 -2.34331200e+06  2.81517782e+18\n",
      "  -7.14240000e+05  5.90528000e+05 -5.75456000e+05  1.88499200e+06\n",
      "  -3.70944000e+05 -1.13696000e+06  5.04192000e+05 -2.14784000e+05\n",
      "  -1.24391200e+06  1.99561600e+06 -1.12041600e+06  6.12016311e+17\n",
      "   1.73443200e+06  3.01132800e+06  1.10128000e+05  4.13504000e+05\n",
      "  -1.41919600e+06  1.65184000e+05  1.15352800e+06  1.51068800e+06\n",
      "   7.83772000e+05  7.51168000e+05 -1.21475200e+06 -4.06880000e+04\n",
      "   1.48657700e+06 -3.74105600e+06 -3.45128000e+05 -2.65273600e+06\n",
      "  -1.26201600e+06  1.06569600e+06  7.40560000e+05 -2.94476800e+06\n",
      "  -3.69664000e+06  1.79475200e+06  4.69440000e+05  8.48576000e+05\n",
      "   2.79942400e+06 -8.40640000e+05 -3.52953600e+06 -3.05184000e+05\n",
      "   3.66400000e+06 -1.81601200e+06  1.01760000e+06  4.25748950e+06\n",
      "  -3.86675200e+06  1.75619200e+06  3.38752000e+05  4.30780800e+06\n",
      "   2.05776000e+06 -4.35456000e+05 -1.80339200e+06 -2.79200000e+04\n",
      "  -1.27488000e+05  1.47017200e+06  1.11923200e+06  2.57486400e+06\n",
      "   3.29961300e+06 -4.02704000e+05  6.03110000e+05 -5.64064000e+05\n",
      "   2.03430400e+06 -2.50640000e+06  2.15462400e+06  4.88633600e+06\n",
      "  -1.59936000e+05  3.31299200e+06  2.20192000e+06  5.08478687e+18\n",
      "   1.57862400e+06 -2.83113600e+06 -8.57648000e+05  1.98822400e+06\n",
      "  -4.52480000e+05  2.69728000e+06  1.02003200e+06  2.17430400e+06\n",
      "   4.61094400e+06]]\n",
      "[1335348.13392268]\n"
     ]
    }
   ],
   "source": [
    "#Xp and testp are the new datasets with only the bottom 35 features\n",
    "poly = PolynomialFeatures(2, include_bias=False)\n",
    "X2 = poly.fit_transform(Xp)\n",
    "X2_test=poly.transform(testp)\n",
    "print(X2.shape)\n",
    "# print(test.shape)\n",
    "print(poly.get_feature_names_out())\n",
    "reg = LinearRegression().fit(X2,y)\n",
    "print(reg.score(X2, y))\n",
    "print(reg.coef_)\n",
    "print(reg.intercept_)"
   ]
  },
  {
   "cell_type": "code",
   "execution_count": 29,
   "metadata": {},
   "outputs": [
    {
     "name": "stdout",
     "output_type": "stream",
     "text": [
      "(181507, 495)\n",
      "(77789, 270)\n",
      "['x0' 'x1' 'x2' 'x3' 'x4' 'x5' 'x6' 'x7' 'x8' 'x9' 'x10' 'x11' 'x12' 'x13'\n",
      " 'x14' 'x15' 'x16' 'x17' 'x18' 'x19' 'x20' 'x21' 'x22' 'x23' 'x24' 'x25'\n",
      " 'x26' 'x27' 'x28' 'x29' 'x0^2' 'x0 x1' 'x0 x2' 'x0 x3' 'x0 x4' 'x0 x5'\n",
      " 'x0 x6' 'x0 x7' 'x0 x8' 'x0 x9' 'x0 x10' 'x0 x11' 'x0 x12' 'x0 x13'\n",
      " 'x0 x14' 'x0 x15' 'x0 x16' 'x0 x17' 'x0 x18' 'x0 x19' 'x0 x20' 'x0 x21'\n",
      " 'x0 x22' 'x0 x23' 'x0 x24' 'x0 x25' 'x0 x26' 'x0 x27' 'x0 x28' 'x0 x29'\n",
      " 'x1^2' 'x1 x2' 'x1 x3' 'x1 x4' 'x1 x5' 'x1 x6' 'x1 x7' 'x1 x8' 'x1 x9'\n",
      " 'x1 x10' 'x1 x11' 'x1 x12' 'x1 x13' 'x1 x14' 'x1 x15' 'x1 x16' 'x1 x17'\n",
      " 'x1 x18' 'x1 x19' 'x1 x20' 'x1 x21' 'x1 x22' 'x1 x23' 'x1 x24' 'x1 x25'\n",
      " 'x1 x26' 'x1 x27' 'x1 x28' 'x1 x29' 'x2^2' 'x2 x3' 'x2 x4' 'x2 x5'\n",
      " 'x2 x6' 'x2 x7' 'x2 x8' 'x2 x9' 'x2 x10' 'x2 x11' 'x2 x12' 'x2 x13'\n",
      " 'x2 x14' 'x2 x15' 'x2 x16' 'x2 x17' 'x2 x18' 'x2 x19' 'x2 x20' 'x2 x21'\n",
      " 'x2 x22' 'x2 x23' 'x2 x24' 'x2 x25' 'x2 x26' 'x2 x27' 'x2 x28' 'x2 x29'\n",
      " 'x3^2' 'x3 x4' 'x3 x5' 'x3 x6' 'x3 x7' 'x3 x8' 'x3 x9' 'x3 x10' 'x3 x11'\n",
      " 'x3 x12' 'x3 x13' 'x3 x14' 'x3 x15' 'x3 x16' 'x3 x17' 'x3 x18' 'x3 x19'\n",
      " 'x3 x20' 'x3 x21' 'x3 x22' 'x3 x23' 'x3 x24' 'x3 x25' 'x3 x26' 'x3 x27'\n",
      " 'x3 x28' 'x3 x29' 'x4^2' 'x4 x5' 'x4 x6' 'x4 x7' 'x4 x8' 'x4 x9' 'x4 x10'\n",
      " 'x4 x11' 'x4 x12' 'x4 x13' 'x4 x14' 'x4 x15' 'x4 x16' 'x4 x17' 'x4 x18'\n",
      " 'x4 x19' 'x4 x20' 'x4 x21' 'x4 x22' 'x4 x23' 'x4 x24' 'x4 x25' 'x4 x26'\n",
      " 'x4 x27' 'x4 x28' 'x4 x29' 'x5^2' 'x5 x6' 'x5 x7' 'x5 x8' 'x5 x9'\n",
      " 'x5 x10' 'x5 x11' 'x5 x12' 'x5 x13' 'x5 x14' 'x5 x15' 'x5 x16' 'x5 x17'\n",
      " 'x5 x18' 'x5 x19' 'x5 x20' 'x5 x21' 'x5 x22' 'x5 x23' 'x5 x24' 'x5 x25'\n",
      " 'x5 x26' 'x5 x27' 'x5 x28' 'x5 x29' 'x6^2' 'x6 x7' 'x6 x8' 'x6 x9'\n",
      " 'x6 x10' 'x6 x11' 'x6 x12' 'x6 x13' 'x6 x14' 'x6 x15' 'x6 x16' 'x6 x17'\n",
      " 'x6 x18' 'x6 x19' 'x6 x20' 'x6 x21' 'x6 x22' 'x6 x23' 'x6 x24' 'x6 x25'\n",
      " 'x6 x26' 'x6 x27' 'x6 x28' 'x6 x29' 'x7^2' 'x7 x8' 'x7 x9' 'x7 x10'\n",
      " 'x7 x11' 'x7 x12' 'x7 x13' 'x7 x14' 'x7 x15' 'x7 x16' 'x7 x17' 'x7 x18'\n",
      " 'x7 x19' 'x7 x20' 'x7 x21' 'x7 x22' 'x7 x23' 'x7 x24' 'x7 x25' 'x7 x26'\n",
      " 'x7 x27' 'x7 x28' 'x7 x29' 'x8^2' 'x8 x9' 'x8 x10' 'x8 x11' 'x8 x12'\n",
      " 'x8 x13' 'x8 x14' 'x8 x15' 'x8 x16' 'x8 x17' 'x8 x18' 'x8 x19' 'x8 x20'\n",
      " 'x8 x21' 'x8 x22' 'x8 x23' 'x8 x24' 'x8 x25' 'x8 x26' 'x8 x27' 'x8 x28'\n",
      " 'x8 x29' 'x9^2' 'x9 x10' 'x9 x11' 'x9 x12' 'x9 x13' 'x9 x14' 'x9 x15'\n",
      " 'x9 x16' 'x9 x17' 'x9 x18' 'x9 x19' 'x9 x20' 'x9 x21' 'x9 x22' 'x9 x23'\n",
      " 'x9 x24' 'x9 x25' 'x9 x26' 'x9 x27' 'x9 x28' 'x9 x29' 'x10^2' 'x10 x11'\n",
      " 'x10 x12' 'x10 x13' 'x10 x14' 'x10 x15' 'x10 x16' 'x10 x17' 'x10 x18'\n",
      " 'x10 x19' 'x10 x20' 'x10 x21' 'x10 x22' 'x10 x23' 'x10 x24' 'x10 x25'\n",
      " 'x10 x26' 'x10 x27' 'x10 x28' 'x10 x29' 'x11^2' 'x11 x12' 'x11 x13'\n",
      " 'x11 x14' 'x11 x15' 'x11 x16' 'x11 x17' 'x11 x18' 'x11 x19' 'x11 x20'\n",
      " 'x11 x21' 'x11 x22' 'x11 x23' 'x11 x24' 'x11 x25' 'x11 x26' 'x11 x27'\n",
      " 'x11 x28' 'x11 x29' 'x12^2' 'x12 x13' 'x12 x14' 'x12 x15' 'x12 x16'\n",
      " 'x12 x17' 'x12 x18' 'x12 x19' 'x12 x20' 'x12 x21' 'x12 x22' 'x12 x23'\n",
      " 'x12 x24' 'x12 x25' 'x12 x26' 'x12 x27' 'x12 x28' 'x12 x29' 'x13^2'\n",
      " 'x13 x14' 'x13 x15' 'x13 x16' 'x13 x17' 'x13 x18' 'x13 x19' 'x13 x20'\n",
      " 'x13 x21' 'x13 x22' 'x13 x23' 'x13 x24' 'x13 x25' 'x13 x26' 'x13 x27'\n",
      " 'x13 x28' 'x13 x29' 'x14^2' 'x14 x15' 'x14 x16' 'x14 x17' 'x14 x18'\n",
      " 'x14 x19' 'x14 x20' 'x14 x21' 'x14 x22' 'x14 x23' 'x14 x24' 'x14 x25'\n",
      " 'x14 x26' 'x14 x27' 'x14 x28' 'x14 x29' 'x15^2' 'x15 x16' 'x15 x17'\n",
      " 'x15 x18' 'x15 x19' 'x15 x20' 'x15 x21' 'x15 x22' 'x15 x23' 'x15 x24'\n",
      " 'x15 x25' 'x15 x26' 'x15 x27' 'x15 x28' 'x15 x29' 'x16^2' 'x16 x17'\n",
      " 'x16 x18' 'x16 x19' 'x16 x20' 'x16 x21' 'x16 x22' 'x16 x23' 'x16 x24'\n",
      " 'x16 x25' 'x16 x26' 'x16 x27' 'x16 x28' 'x16 x29' 'x17^2' 'x17 x18'\n",
      " 'x17 x19' 'x17 x20' 'x17 x21' 'x17 x22' 'x17 x23' 'x17 x24' 'x17 x25'\n",
      " 'x17 x26' 'x17 x27' 'x17 x28' 'x17 x29' 'x18^2' 'x18 x19' 'x18 x20'\n",
      " 'x18 x21' 'x18 x22' 'x18 x23' 'x18 x24' 'x18 x25' 'x18 x26' 'x18 x27'\n",
      " 'x18 x28' 'x18 x29' 'x19^2' 'x19 x20' 'x19 x21' 'x19 x22' 'x19 x23'\n",
      " 'x19 x24' 'x19 x25' 'x19 x26' 'x19 x27' 'x19 x28' 'x19 x29' 'x20^2'\n",
      " 'x20 x21' 'x20 x22' 'x20 x23' 'x20 x24' 'x20 x25' 'x20 x26' 'x20 x27'\n",
      " 'x20 x28' 'x20 x29' 'x21^2' 'x21 x22' 'x21 x23' 'x21 x24' 'x21 x25'\n",
      " 'x21 x26' 'x21 x27' 'x21 x28' 'x21 x29' 'x22^2' 'x22 x23' 'x22 x24'\n",
      " 'x22 x25' 'x22 x26' 'x22 x27' 'x22 x28' 'x22 x29' 'x23^2' 'x23 x24'\n",
      " 'x23 x25' 'x23 x26' 'x23 x27' 'x23 x28' 'x23 x29' 'x24^2' 'x24 x25'\n",
      " 'x24 x26' 'x24 x27' 'x24 x28' 'x24 x29' 'x25^2' 'x25 x26' 'x25 x27'\n",
      " 'x25 x28' 'x25 x29' 'x26^2' 'x26 x27' 'x26 x28' 'x26 x29' 'x27^2'\n",
      " 'x27 x28' 'x27 x29' 'x28^2' 'x28 x29' 'x29^2']\n",
      "0.6359630089076267\n",
      "[[ 9.37988817e+07  4.90764632e+06 -5.70741352e+06  1.22276417e+04\n",
      "   6.65879965e+06 -1.21432569e+07  4.33059007e+06 -1.06572152e+06\n",
      "   7.74092511e+06  1.56755698e+06  6.25364011e+06 -9.86954829e+05\n",
      "   4.11721026e+06  4.03366685e+06 -6.08832366e+06  6.52002246e+06\n",
      "   1.28920750e+06  1.77012225e+06  8.56305481e+06  1.16274712e+07\n",
      "   1.12124989e+07  1.88518450e+07 -9.42995613e+06  7.30502421e+05\n",
      "   1.36472057e+06  1.37658794e+07  3.53578825e+06 -1.64954822e+06\n",
      "  -1.05961304e+07  4.07084170e+06 -1.99517181e+07 -9.91517266e+06\n",
      "   7.39530944e+05 -5.25603941e+06 -1.35043147e+07 -5.28099726e+06\n",
      "  -3.56805464e+06 -5.30926920e+06 -1.14243696e+06 -5.08990298e+06\n",
      "  -3.73297173e+06 -7.42268251e+06 -3.11259385e+06 -5.61928415e+06\n",
      "  -3.95935200e+06 -1.22235720e+07 -1.30073060e+07 -3.48544653e+06\n",
      "  -3.29563170e+06  5.02145758e+05 -3.23611579e+06 -7.05880253e+06\n",
      "  -4.16228122e+06 -5.09152258e+06 -3.99313078e+06 -7.40611783e+06\n",
      "  -7.16955487e+05 -2.86615742e+06 -1.32245212e+06 -1.72002434e+06\n",
      "  -2.98506500e+06  1.92999510e+06 -3.35799160e+06 -4.50690731e+06\n",
      "   7.81037881e+06  4.25678627e+05  3.38349013e+06 -1.58256393e+06\n",
      "   3.58381090e+06 -5.19560850e+05 -3.27764207e+06 -1.75983437e+06\n",
      "  -2.10126047e+05  1.49739857e+05 -8.30317944e+06 -4.73651027e+06\n",
      "   1.14512098e+06  3.06661340e+06 -6.92828457e+05  3.59588820e+06\n",
      "   2.41641506e+06  3.54124219e+06 -1.90457027e+06 -2.84106260e+05\n",
      "  -6.36037826e+06  5.33281519e+06  2.91483741e+06  1.28461577e+06\n",
      "   8.36386668e+06  4.30053812e+06  3.99298548e+06  9.99514631e+05\n",
      "  -1.06092096e+06  1.91587141e+06 -1.54940614e+06 -3.38298393e+06\n",
      "  -4.69576172e+06 -3.24754001e+06  3.48495123e+05 -3.32820401e+06\n",
      "  -1.05921850e+06  3.95652259e+06  2.41516243e+06  6.69333553e+04\n",
      "   2.57097673e+04 -4.55769014e+05  2.42918655e+06 -9.84699651e+05\n",
      "   6.16372680e+05  2.27393936e+06  1.36098486e+05 -2.30656852e+06\n",
      "  -1.02351630e+05 -2.25800517e+06  1.41132958e+06 -1.55745151e+06\n",
      "   3.36501931e+06 -9.13201686e+05 -8.99884608e+05  4.88236365e+06\n",
      "   2.45570158e+06  8.87204529e+05  5.37883038e+05 -9.91923905e+05\n",
      "   1.71750465e+06  4.43421210e+06  8.71939793e+05  2.83887441e+06\n",
      "   3.56976111e+06 -4.89154927e+06  2.59947642e+05 -8.26930093e+05\n",
      "   2.82975646e+06 -6.85734721e+05 -4.99519954e+06 -1.77577307e+06\n",
      "   2.38695022e+06  7.93930382e+05 -1.81768638e+06 -1.64231292e+06\n",
      "   7.11728448e+05 -3.65173805e+06  9.92898924e+05 -1.77599073e+06\n",
      "   4.90978029e+05  3.15682363e+06  3.55972673e+06  1.40184477e+06\n",
      "  -1.16465613e+06  5.40926838e+06 -1.86018134e+06  1.76028738e+06\n",
      "  -1.16603668e+06 -2.74652000e+06 -5.78410674e+05 -3.39752728e+06\n",
      "  -5.61126859e+06  1.06237989e+06 -2.06655556e+06  4.73700428e+06\n",
      "   1.30147400e+06 -1.53581683e+06  3.64650323e+06  1.06047120e+06\n",
      "  -3.60711400e+06 -1.26654658e+06 -9.68644867e+05 -2.62639600e+06\n",
      "   3.34320214e+06  2.56334738e+06  5.73920562e+06  3.89071261e+05\n",
      "  -2.80582238e+06  1.23812680e+06  9.84286495e+05 -5.73665338e+06\n",
      "   1.45389332e+06 -2.11522114e+05  4.38670946e+06  3.83583710e+06\n",
      "   5.61212701e+06  7.07860983e+05  1.63275131e+06 -2.40367584e+06\n",
      "  -5.31452819e+06 -4.10583913e+06  1.33315147e+05  5.88613250e+06\n",
      "  -1.48678960e+06  6.97658803e+05  8.31037392e+05 -3.08572262e+06\n",
      "   9.90565473e+05  1.89645923e+06 -2.63720030e+06  5.21123361e+06\n",
      "  -5.40158124e+05  1.31389624e+05  2.15665358e+06 -2.72917291e+06\n",
      "  -2.92762965e+06  1.24158405e+06 -3.40265836e+06 -2.90234564e+06\n",
      "  -1.53269420e+06  2.34643930e+06 -1.37715902e+06 -1.04014121e+06\n",
      "  -6.74982126e+06  1.96151516e+06 -2.13762125e+06 -3.30101540e+06\n",
      "   2.46153798e+06 -4.22248789e+06 -3.73547254e+06 -2.99534460e+03\n",
      "   3.03072898e+06  4.82228385e+06 -5.84369544e+06  6.40383500e+06\n",
      "  -1.17471468e+06 -6.37794731e+05 -1.40349105e+06  3.50004222e+06\n",
      "  -3.64237226e+05 -3.75088802e+06 -2.47661781e+06  3.74534675e+06\n",
      "   3.68088061e+06 -1.86602961e+06 -4.25807225e+06 -1.36527885e+06\n",
      "  -1.62225735e+06  1.72792342e+06 -4.07587997e+06  7.21152199e+06\n",
      "   3.48932512e+05 -1.99586106e+06  2.53956488e+06 -2.48461003e+06\n",
      "   1.55242980e+05 -1.59692599e+06  1.04655768e+07 -4.22533394e+06\n",
      "   1.33631689e+06 -5.77603200e+06 -2.52599825e+06  3.10231244e+06\n",
      "   1.17133798e+06 -4.33799189e+06 -1.53450707e+06 -2.01491963e+06\n",
      "   1.68376223e+06  4.10248212e+05 -5.08705881e+06 -3.28703296e+06\n",
      "   1.31849651e+06 -4.26464603e+06  1.14972840e+06 -2.23581747e+06\n",
      "  -2.62979688e+06 -1.54739172e+06 -1.60957098e+06  1.42050004e+06\n",
      "   2.84106883e+06 -1.30340915e+06  2.74461787e+06 -1.64289092e+06\n",
      "  -3.15313613e+06  5.77508612e+04  7.69498984e+05 -1.75004780e+06\n",
      "  -4.09912817e+06  1.03051944e+06  2.65726354e+06 -3.39939335e+06\n",
      "  -2.90833273e+06  3.86939250e+06  5.68125859e+06  2.78337204e+06\n",
      "   1.16904164e+06 -6.18323299e+06  1.35104107e+06 -2.37163767e+06\n",
      "   1.22590125e+06  5.49189067e+06 -1.17751579e+06  2.43822687e+06\n",
      "   2.48967599e+06 -3.12328050e+06  5.99958942e+06  3.03338391e+06\n",
      "   3.77736891e+05 -2.81585639e+06  3.49942252e+06 -5.59280679e+06\n",
      "  -9.65962377e+05 -1.00787404e+06 -6.55544463e+04  1.13683316e+06\n",
      "  -1.57412788e+06 -6.39826979e+06 -1.81684263e+05 -3.93159852e+06\n",
      "  -9.28043062e+04  3.10800398e+05  2.13793293e+05  2.70283609e+06\n",
      "   6.31159857e+06 -1.31221189e+06 -1.01517502e+06 -2.29248748e+06\n",
      "  -2.28251328e+05  3.00878929e+04  2.52846024e+06 -3.29819653e+06\n",
      "  -2.08246606e+06 -6.19439963e+05  1.02485568e+06  2.44569264e+06\n",
      "   2.19751458e+06  4.56999007e+05  4.31719101e+06 -2.55479942e+06\n",
      "   1.80471374e+06  1.41153196e+06  3.23504559e+06  8.28849282e+04\n",
      "   1.32476020e+06 -3.43084278e+06  1.54754713e+06  2.36515834e+06\n",
      "   1.04820593e+06 -1.52936844e+06 -2.99604819e+06 -3.95327198e+06\n",
      "   6.05197403e+05  1.32094607e+06  2.81158459e+06  6.42633629e+05\n",
      "  -8.40545180e+05 -2.24199872e+06 -9.62901236e+05 -4.56286171e+06\n",
      "  -5.47479970e+05  2.19376318e+06  1.53943792e+06 -2.75580262e+06\n",
      "   7.84349136e+05 -1.76993906e+06 -8.04969141e+05  1.57550947e+06\n",
      "   1.52882524e+06 -1.19795593e+06 -1.24508569e+06  1.22600171e+06\n",
      "  -1.18893437e+06  2.03723799e+06  4.64981406e+05 -8.59684910e+05\n",
      "   9.56341362e+04  5.76419022e+06  5.80656284e+06 -1.11594386e+06\n",
      "  -2.39036251e+06 -2.21061420e+06 -2.07519690e+06 -1.58432257e+06\n",
      "   2.10315108e+06  1.42311309e+06  6.64899297e+04  2.33209283e+06\n",
      "   1.07566072e+06  2.09688720e+06 -1.31386501e+06 -7.33198596e+06\n",
      "  -4.13592053e+06 -1.45108269e+06  3.32715113e+05  6.51008503e+05\n",
      "   9.23266497e+06  2.20554059e+06  3.14791958e+06 -4.31686469e+06\n",
      "   1.36449076e+06 -1.34928304e+06  7.65203371e+06  6.41265865e+06\n",
      "   1.40496409e+06  1.65020639e+06  1.74332080e+06 -1.97994767e+05\n",
      "   3.21202101e+06 -1.84011867e+06 -2.11817406e+06 -1.89828989e+06\n",
      "   5.72537191e+06 -3.42926888e+06  1.88548940e+06  8.98630078e+05\n",
      "   4.13882221e+06  1.58912614e+06  7.44051338e+05  2.31410255e+06\n",
      "   2.46608548e+05 -1.01488209e+06 -3.20038087e+06 -3.10409845e+06\n",
      "   2.26059128e+06  5.74864882e+06  2.00407112e+06  1.19970581e+06\n",
      "   4.52427194e+06  4.01557812e+06 -1.57778307e+06 -8.76896783e+03\n",
      "  -2.76534224e+06  2.07186386e+06 -3.66058810e+06 -1.23381757e+06\n",
      "  -3.99288006e+06 -3.60297492e+06  1.17119039e+06 -2.56186336e+06\n",
      "  -5.38658241e+05 -4.09709697e+06  3.89372069e+06 -1.98113290e+06\n",
      "   2.09977243e+06  1.26264615e+06 -4.42023626e+05 -2.30793068e+05\n",
      "  -7.57077437e+05  1.74283854e+06 -2.74073807e+05  9.20665046e+05\n",
      "  -4.62905412e+06 -5.61329757e+06 -3.80786919e+06 -6.29883518e+06\n",
      "   7.28510324e+06 -3.16089642e+06 -2.76083373e+06  2.99580266e+06\n",
      "  -1.13735178e+06 -2.81516151e+06 -3.28675578e+06 -2.12247044e+06\n",
      "  -2.43443475e+06  5.79189984e+05  1.52929383e+06 -1.79498597e+06\n",
      "  -8.77533539e+05 -2.98572924e+06 -8.01005118e+06 -2.05455443e+06\n",
      "  -1.41588537e+06  1.38806771e+06  5.10375153e+05  4.39440174e+06\n",
      "   5.56479878e+06 -3.39766647e+06  2.88303843e+06 -1.84924832e+06\n",
      "  -1.40836447e+06  5.44503058e+05 -3.76259815e+06 -4.61834951e+05\n",
      "  -1.77580244e+06 -2.00739663e+06 -3.50913365e+05 -5.05073420e+06\n",
      "   4.97283397e+05  2.62569468e+06  6.93235584e+06 -1.63979728e+06\n",
      "   6.44227740e+05  2.71360017e+06 -5.17938549e+06  4.14042376e+06\n",
      "   3.05112197e+06 -1.03270172e+06  2.31626568e+06  1.09114808e+06\n",
      "  -3.65987850e+06  2.71430498e+06  5.62963240e+05 -3.58384530e+06\n",
      "  -2.76241817e+06  2.06875078e+06  2.77921781e+06 -3.25487082e+06\n",
      "   8.18173460e+06  4.35872582e+06 -5.71969375e+05]]\n",
      "[4930125.1358316]\n"
     ]
    }
   ],
   "source": [
    "poly = PolynomialFeatures(2, include_bias=False)\n",
    "X2 = poly.fit_transform(X_new)\n",
    "X2_test=poly.transform(Xtest)\n",
    "print(X2.shape)\n",
    "print(test.shape)\n",
    "print(poly.get_feature_names_out())\n",
    "reg = LinearRegression().fit(X2,y)\n",
    "print(reg.score(X2, y))\n",
    "print(reg.coef_)\n",
    "print(reg.intercept_)"
   ]
  },
  {
   "cell_type": "code",
   "execution_count": 88,
   "metadata": {},
   "outputs": [],
   "source": [
    "price_doc = reg.predict(X2_test)"
   ]
  },
  {
   "cell_type": "code",
   "execution_count": 89,
   "metadata": {},
   "outputs": [],
   "source": [
    "#Create a DataFrame for the predictions\n",
    "predictions_df = pd.DataFrame(price_doc, columns=['price_doc'])\n",
    "\n",
    "#Add the record ID from the test data to the predictions DataFrame\n",
    "predictions_df.insert(0, 'row ID', row_id)\n",
    "\n",
    "#Save the predictions to a CSV file\n",
    "predictions_df.to_csv('35MLPRwithPvaluefeatureselction.csv', index=False)"
   ]
  },
  {
   "cell_type": "code",
   "execution_count": null,
   "metadata": {},
   "outputs": [],
   "source": []
  }
 ],
 "metadata": {
  "kernelspec": {
   "display_name": "Python 3",
   "language": "python",
   "name": "python3"
  },
  "language_info": {
   "codemirror_mode": {
    "name": "ipython",
    "version": 3
   },
   "file_extension": ".py",
   "mimetype": "text/x-python",
   "name": "python",
   "nbconvert_exporter": "python",
   "pygments_lexer": "ipython3",
   "version": "3.10.11"
  },
  "orig_nbformat": 4
 },
 "nbformat": 4,
 "nbformat_minor": 2
}
